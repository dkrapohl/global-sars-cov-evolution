{
  "cells": [
    {
      "cell_type": "markdown",
      "metadata": {
        "id": "gEaxL4wRSCAC"
      },
      "source": [
        "#Group 11 project 1\n",
        "  Group members:\n",
        "  - Jennifer Becerra\n",
        "  - Sierra Landacre\n",
        "  - Don Krapohl\n",
        "\n",
        "\n",
        "  Our proposal is at https://docs.google.com/document/d/13be3PvzDU99-EkooqcpcbDVWiMm37aB0SOlEGFb2J7U/edit?tab=t.0\n",
        "\n",
        "  Summary:  This data analysis group project will use basic deep learning techniques and algorithms to predict the probability of the five most widespread COVID-19 variants in each country based on societal and infrastructure information.\n",
        "\n",
        "  Citations\n",
        "  - Franceschini, L. (2024, April). The World Factbook by CIA, Version 4. Retrieved 01/29/2025 from https://www.kaggle.com/datasets/lucafrance/the-world-factbook-by-cia\n",
        "\n",
        "  - Giordano, D, SARS-CoV-2-Variants, (2022), GitHub repository, https://github.com/3dgiordano/SARS-CoV-2-Variants.\n"
      ]
    },
    {
      "cell_type": "markdown",
      "metadata": {
        "id": "1ZPVIoPDxAZD"
      },
      "source": [
        "**Mount Google Drive**"
      ]
    },
    {
      "cell_type": "code",
      "execution_count": 11,
      "metadata": {
        "id": "W8jzErgrxFXH",
        "colab": {
          "base_uri": "https://localhost:8080/"
        },
        "outputId": "7e34de6b-8562-46ac-f281-72345f5e8776"
      },
      "outputs": [
        {
          "output_type": "stream",
          "name": "stdout",
          "text": [
            "Drive already mounted at /content/drive; to attempt to forcibly remount, call drive.mount(\"/content/drive\", force_remount=True).\n"
          ]
        }
      ],
      "source": [
        "#Mount Google Drive\n",
        "from google.colab import drive\n",
        "drive.mount('/content/drive')"
      ]
    },
    {
      "cell_type": "markdown",
      "metadata": {
        "id": "kd3Ggk09ETq5"
      },
      "source": [
        "**Import Libraries**"
      ]
    },
    {
      "cell_type": "code",
      "execution_count": 12,
      "metadata": {
        "id": "qIqswqjzhNe5"
      },
      "outputs": [],
      "source": [
        "# Import Necessary Libraries\n",
        "import pandas as pd\n",
        "import numpy as np\n",
        "import os\n",
        "import glob\n",
        "import re\n",
        "import seaborn as sns\n",
        "from datetime import timedelta\n",
        "#from statsmodels.tsa.holtwinters import SimpleExpSmoothing  # for doing time series smoothing on variants\n",
        "from sklearn.preprocessing import LabelEncoder, StandardScaler, OneHotEncoder, MinMaxScaler\n",
        "from sklearn.model_selection import train_test_split\n",
        "from sklearn.metrics import confusion_matrix, accuracy_score, recall_score, precision_score, classification_report"
      ]
    },
    {
      "cell_type": "markdown",
      "metadata": {
        "id": "vNPyhFy1xe3Z"
      },
      "source": [
        "**Define Paths**"
      ]
    },
    {
      "cell_type": "code",
      "execution_count": 13,
      "metadata": {
        "id": "jIJScyaExeHO"
      },
      "outputs": [],
      "source": [
        "# Set Up File Paths\n",
        "standard_colab_google_mount = \"/content/drive\"\n",
        "base_path = \"/content/drive/MyDrive/project1_data/\"\n",
        "country_data_path = f\"{base_path}country_data/\"\n",
        "country_data_file_path = f\"{country_data_path}countries.csv\"\n",
        "covid_data_path = f\"{base_path}SARS-CoV-2-Variants/\"\n"
      ]
    },
    {
      "cell_type": "markdown",
      "metadata": {
        "id": "C4ohY2zryg-R"
      },
      "source": [
        "**Define Preprocessing Models**\n",
        "\n",
        "We will reuse the encoders later after fitting to process our test data."
      ]
    },
    {
      "cell_type": "code",
      "execution_count": 14,
      "metadata": {
        "id": "Mz4Ag-bUypaW"
      },
      "outputs": [],
      "source": [
        "variant_encoder = LabelEncoder()\n",
        "country_encoder = LabelEncoder()\n",
        "country_metric_scaler = StandardScaler()\n",
        "covid_date_scaler = MinMaxScaler()\n",
        "ohe_variant = OneHotEncoder()"
      ]
    },
    {
      "cell_type": "markdown",
      "metadata": {
        "id": "Kl3Z3RqvxnIw"
      },
      "source": [
        "**Load Country Data**  \n",
        "\n",
        "There are two sets of data, the country data with political and other national information, and the COVID data with counts per day of COVID variants in a country. This is the country portion"
      ]
    },
    {
      "cell_type": "code",
      "execution_count": 15,
      "metadata": {
        "id": "Kf0NHY6Yxmif",
        "colab": {
          "base_uri": "https://localhost:8080/"
        },
        "outputId": "6ecd20c1-1760-441a-e06a-66533c926106"
      },
      "outputs": [
        {
          "output_type": "stream",
          "name": "stdout",
          "text": [
            "Country data loaded and filtered successfully.\n",
            "         Country Environment: Urbanization - urban population  \\\n",
            "0  United States             83.3% of total population (2023)   \n",
            "1    Afghanistan             26.9% of total population (2023)   \n",
            "2       Akrotiri                                          NaN   \n",
            "3        Albania             64.6% of total population (2023)   \n",
            "4        Algeria             75.3% of total population (2023)   \n",
            "\n",
            "  People and Society: Hospital bed density  \\\n",
            "0         2.9 beds/1,000 population (2017)   \n",
            "1         0.4 beds/1,000 population (2017)   \n",
            "2                                      NaN   \n",
            "3         2.9 beds/1,000 population (2013)   \n",
            "4         1.9 beds/1,000 population (2015)   \n",
            "\n",
            "  People and Society: Obesity - adult prevalence rate  \n",
            "0                                       36.2% (2016)   \n",
            "1                                        5.5% (2016)   \n",
            "2                                                NaN   \n",
            "3                                       21.7% (2016)   \n",
            "4                                       27.4% (2016)   \n"
          ]
        }
      ],
      "source": [
        "# Load country data\n",
        "country_df = pd.read_csv(country_data_file_path)\n",
        "\n",
        "# Keep only specific columns\n",
        "country_cols_to_keep = [\n",
        "    'Country',\n",
        "    'Environment: Urbanization - urban population',\n",
        "    'People and Society: Hospital bed density',\n",
        "    'People and Society: Obesity - adult prevalence rate'\n",
        "]\n",
        "country_df = country_df[country_cols_to_keep]\n",
        "\n",
        "print(\"Country data loaded and filtered successfully.\")\n",
        "print(country_df.head())\n",
        "\n",
        "\n"
      ]
    },
    {
      "cell_type": "markdown",
      "metadata": {
        "id": "WDCneP31yffn"
      },
      "source": [
        "**Combine COVID Data Files Using Glob**"
      ]
    },
    {
      "cell_type": "code",
      "source": [
        "# Our files don't have complete coverage of all variants. We'll use the USA.csv\n",
        "#   file to establish our structure since it has all of them.\n",
        "file_path = os.path.join(covid_data_path, 'USA.csv')  # set to use the USA data\n",
        "try:\n",
        "  combined_df = pd.read_csv(file_path, nrows=0)\n",
        "except Exception as e:\n",
        "  print(f\"An error occurred: {e}\")\n",
        "  raise KeyboardInterrupt   # we have an error here so stop.\n"
      ],
      "metadata": {
        "id": "r9SPSakcQiVt"
      },
      "execution_count": 16,
      "outputs": []
    },
    {
      "cell_type": "code",
      "execution_count": 17,
      "metadata": {
        "id": "GEZ8RynSOsNM",
        "colab": {
          "base_uri": "https://localhost:8080/"
        },
        "outputId": "64823089-ecd3-4e68-d6ca-203c19bbb2ba"
      },
      "outputs": [
        {
          "output_type": "stream",
          "name": "stderr",
          "text": [
            "<ipython-input-17-7371ccd13f19>:36: FutureWarning: The behavior of DataFrame concatenation with empty or all-NA entries is deprecated. In a future version, this will no longer exclude empty or all-NA columns when determining the result dtypes. To retain the old behavior, exclude the relevant entries before the concat operation.\n",
            "  combined_df = pd.concat([combined_df, df], ignore_index=True)\n"
          ]
        },
        {
          "output_type": "stream",
          "name": "stdout",
          "text": [
            "Empty data error for file: /content/drive/MyDrive/project1_data/SARS-CoV-2-Variants/Macao.csv\n",
            "COVID data loaded and combined successfully.\n",
            "  location       date  A (Lineage)  A.23.1  A.27  A.28  AD (Lineage)  \\\n",
            "0  Austria 2020-03-08     0.000000     0.0   0.0   0.0           0.0   \n",
            "1  Austria 2020-03-22     1.568627     0.0   0.0   0.0           0.0   \n",
            "\n",
            "   AE (Lineage)  AK (Lineage)  AL (Lineage)  AM (Lineage)  AP (Lineage)  \\\n",
            "0           0.0           0.0           0.0           0.0           0.0   \n",
            "1           0.0           0.0           0.0           0.0           0.0   \n",
            "\n",
            "   AU (Lineage)  AW (Lineage)  AZ (Lineage)  Alpha (WHO VOC)  \\\n",
            "0           0.0           0.0           0.0              0.0   \n",
            "1           0.0           0.0           0.0              0.0   \n",
            "\n",
            "   Alpha - Q.1 (WHO VOC)  Alpha - Q.2 (WHO VOC)  Alpha - Q.3 (WHO VOC)  \\\n",
            "0                    0.0                    0.0                    0.0   \n",
            "1                    0.0                    0.0                    0.0   \n",
            "\n",
            "   Alpha - Q.4 (WHO VOC)  Alpha - Q.6 (WHO VOC)  Alpha - Q.7 (WHO VOC)  \\\n",
            "0                    0.0                    0.0                    0.0   \n",
            "1                    0.0                    0.0                    0.0   \n",
            "\n",
            "   Alpha - Q.8 (WHO VOC)  B (Lineage)  B.1.1.277 - 20B/S:626S  B.1.1.28  \\\n",
            "0                    0.0   100.000000                     0.0       0.0   \n",
            "1                    0.0    98.431373                     0.0       0.0   \n",
            "\n",
            "   B.1.1.318 (WHO AFM)  B.1.1.519 - 20B/S:732A  B.1.1.523 (WHO AFM)  \\\n",
            "0                  0.0                     0.0                  0.0   \n",
            "1                  0.0                     0.0                  0.0   \n",
            "\n",
            "   B.1.160 - 20A/EU2  B.1.177 - 20E/EU1  B.1.214.2 (WHO AFM)  \\\n",
            "0                0.0                0.0                  0.0   \n",
            "1                0.0                0.0                  0.0   \n",
            "\n",
            "   B.1.221 - 20A/S:98F  B.1.258 - 20A/S:439K  B.1.367 - 20C/S:80Y  \\\n",
            "0                  0.0                   0.0                  0.0   \n",
            "1                  0.0                   0.0                  0.0   \n",
            "\n",
            "   B.1.466.2 (WHO AFM)  B.1.617.3 (CDC VBM)  B.1.619 (WHO AFM)  \\\n",
            "0                  0.0                  0.0                0.0   \n",
            "1                  0.0                  0.0                0.0   \n",
            "\n",
            "   B.1.620 - 20A/S:126A  B.1.623 (PHE VUI)  B.1.630 (WHO AFM)  Beta (WHO VOC)  \\\n",
            "0                   0.0                0.0                0.0             0.0   \n",
            "1                   0.0                0.0                0.0             0.0   \n",
            "\n",
            "   C (Lineage)  C.1.2 (WHO AFM)  C.16  C.36 (ECDC VUM)  C.36.3 (WHO AFM)  \\\n",
            "0          0.0              0.0   0.0              0.0               0.0   \n",
            "1          0.0              0.0   0.0              0.0               0.0   \n",
            "\n",
            "   D (Lineage)  Delta (WHO VOC)  Delta - AY.1 (WHO VOC)  \\\n",
            "0          0.0              0.0                     0.0   \n",
            "1          0.0              0.0                     0.0   \n",
            "\n",
            "   Delta - AY.2 (WHO VOC)  Delta - AY.3 (WHO VOC)  Delta - AY.4 (WHO VOC)  \\\n",
            "0                     0.0                     0.0                     0.0   \n",
            "1                     0.0                     0.0                     0.0   \n",
            "\n",
            "   Delta - AY.5 (WHO VOC)  Delta - AY.6 (WHO VOC)  Delta - AY.7 (WHO VOC)  \\\n",
            "0                     0.0                     0.0                     0.0   \n",
            "1                     0.0                     0.0                     0.0   \n",
            "\n",
            "   Delta - AY.8 (WHO VOC)  Delta - AY.9 (WHO VOC)  Epsilon (WHO AFM)  \\\n",
            "0                     0.0                     0.0                0.0   \n",
            "1                     0.0                     0.0                0.0   \n",
            "\n",
            "   Eta (WHO AFM)  Gamma (WHO VOC)  Gamma - P.1.1 (WHO VOC)  \\\n",
            "0            0.0              0.0                      0.0   \n",
            "1            0.0              0.0                      0.0   \n",
            "\n",
            "   Gamma - P.1.2 (WHO VOC)  Gamma - P.1.3 (WHO VOC)  Gamma - P.1.4 (WHO VOC)  \\\n",
            "0                      0.0                      0.0                      0.0   \n",
            "1                      0.0                      0.0                      0.0   \n",
            "\n",
            "   Gamma - P.1.7 (WHO VOC)  Gamma - P.1.8 (WHO VOC)  Gamma - P.1.9 (WHO VOC)  \\\n",
            "0                      0.0                      0.0                      0.0   \n",
            "1                      0.0                      0.0                      0.0   \n",
            "\n",
            "   Iota (WHO AFM)  Kappa (WHO AFM)  L (Lineage)  Lambda (WHO VOI)  \\\n",
            "0             0.0              0.0          0.0               0.0   \n",
            "1             0.0              0.0          0.0               0.0   \n",
            "\n",
            "   Mu - 21H (WHO VOI)  N (Lineage) Other  P (Lineage)  P.6 (UY-GTI)  P.7  \\\n",
            "0                 0.0          0.0     0          0.0           0.0  0.0   \n",
            "1                 0.0          0.0     0          0.0           0.0  0.0   \n",
            "\n",
            "   R.1 (WHO AFM)  R.2  S (Lineage)  Theta - P.3 (PHE VUI)  W (Lineage)  \\\n",
            "0            0.0  0.0          0.0                    0.0          0.0   \n",
            "1            0.0  0.0          0.0                    0.0          0.0   \n",
            "\n",
            "   XA (Lineage)  Zeta - P.2 (CDC VBM)  \n",
            "0           0.0                   0.0  \n",
            "1           0.0                   0.0  \n",
            "Total number of rows: 10882\n",
            "Total number of columns: 85\n"
          ]
        }
      ],
      "source": [
        "# Use glob to find all CSV files in the directory\n",
        "csv_files = glob.glob(os.path.join(covid_data_path, '*.csv'))\n",
        "\n",
        "# Loop through the list of CSV files and concatenate them\n",
        "for file in csv_files:\n",
        "  try:\n",
        "    df = pd.read_csv(file)\n",
        "    # Ensure column names match combined_df\n",
        "    df = df.reindex(columns=combined_df.columns)  # Align columns\n",
        "\n",
        "    # ------------------ prep for finding the largest covid variant in the row -----------\n",
        "    # We have to make the covid variant data numeric, fill Na, etc.\n",
        "    numeric_cols = df.columns.difference(['location', 'date'])     # consider everything else numeric\n",
        "    df.fillna(0, inplace=True)                                     # fill in zeroes\n",
        "    df.replace('NaN', \"0\", inplace=True)                           # fix NaNs for now\n",
        "\n",
        "    # Numbers are in #,# format. We'd like floating-point #.# format so fix them\n",
        "    for col in df.columns:\n",
        "        if col in numeric_cols:\n",
        "            try:\n",
        "                # If we can replace a comma, do it and retype the dtype\n",
        "                df[col] = df[col].str.replace(',', '.').astype(float)\n",
        "            except:\n",
        "                continue  # Ignore errors\n",
        "\n",
        "    # Fill missing values with 0.0\n",
        "    df = df.fillna(0.0)\n",
        "\n",
        "  except pd.errors.EmptyDataError:\n",
        "      print(f\"Empty data error for file: {file}\")\n",
        "  except Exception as e:\n",
        "      print(f\"An error occurred for file: {file}, {e}\")\n",
        "      print(e)\n",
        "\n",
        "  # Avoiding fragmentation by using pd.concat\"\n",
        "  combined_df = pd.concat([combined_df, df], ignore_index=True)\n",
        "\n",
        "# we've loaded some files that have invalid formats.  Remove those rows.\n",
        "# Convert to datetime, setting errors='coerce' to turn bad values into NaT\n",
        "combined_df['date'] = pd.to_datetime(combined_df['date'], errors='coerce')\n",
        "\n",
        "# Drop rows where 'date' is NaT (invalid dates)\n",
        "combined_df = combined_df.dropna(subset=['date'])\n",
        "\n",
        "\n",
        "print(\"COVID data loaded and combined successfully.\")\n",
        "print(combined_df.head(2))\n",
        "print(f\"Total number of rows: {combined_df.shape[0]}\")\n",
        "print(f\"Total number of columns: {combined_df.shape[1]}\")\n",
        "\n",
        "local_combined_df = combined_df.copy()    # make a local copy so we can mess up without reloading"
      ]
    },
    {
      "cell_type": "markdown",
      "metadata": {
        "id": "Cl8C_Q6N4qVs"
      },
      "source": [
        "## Preprocessing"
      ]
    },
    {
      "cell_type": "markdown",
      "source": [
        "**Preprocessing Methods**"
      ],
      "metadata": {
        "id": "fdIIcNIraQTX"
      }
    },
    {
      "cell_type": "code",
      "source": [
        "# Our data is composed of varying degrees of reporting frequency so the data are sparse.\n",
        "# To approach this problem as time series since we have reporting dates we'll:\n",
        "# 1. Generate a date row for for every country with variant information\n",
        "# 2.\n",
        "def fill_missing_dates(df):\n",
        "    # Convert date column to datetime if it's not already. This is for sorting and date ops\n",
        "    if not pd.api.types.is_datetime64_any_dtype(df['date']):\n",
        "        df['date'] = pd.to_datetime(df['date'])\n",
        "\n",
        "    # Get all unique countries\n",
        "    all_countries = df['Country'].unique()\n",
        "\n",
        "    # Create a complete date range (all calendar dates)\n",
        "    min_date = df['date'].min()\n",
        "    max_date = df['date'].max()\n",
        "    # Generate a keyset of all dates between our first and last dates\n",
        "    all_dates = pd.date_range(start=min_date, end=max_date)\n",
        "\n",
        "    full_index = pd.MultiIndex.from_product([all_countries, all_dates], names=[\"Country\", \"date\"])\n",
        "    full_df = pd.DataFrame(index=full_index).reset_index()\n",
        "\n",
        "    # Merge with the original dataset\n",
        "    merged_df = full_df.merge(df, on=[\"Country\", \"date\"], how=\"left\")\n",
        "\n",
        "    # Forward-fill missing values within each country\n",
        "    merged_df.sort_values([\"Country\", \"date\"], inplace=True)\n",
        "    merged_df[['Other', 'Nu', 'Lambda', 'Eta', 'Chi', 'Alpha',\n",
        "       'Zeta', 'Mu', 'Iota', 'Pi', 'Kappa', 'Rho', 'Gamma', 'Epsilon',\n",
        "       'Upsilon', 'Theta', 'Sigma', 'Delta', 'Beta']] = merged_df.groupby(\"Country\")[['Other', 'Nu', 'Lambda', 'Eta', 'Chi', 'Alpha',\n",
        "       'Zeta', 'Mu', 'Iota', 'Pi', 'Kappa', 'Rho', 'Gamma', 'Epsilon',\n",
        "       'Upsilon', 'Theta', 'Sigma', 'Delta', 'Beta']].ffill()\n",
        "\n",
        "    # Now, we did a forward fill.  If there was no data for the first date we filled with NaN. Fix it\n",
        "    merged_df.fillna(0.0, inplace=True)\n",
        "    return merged_df\n",
        "\n",
        "# -----------------------------------------------------------------------------------------------\n",
        "# This method is designed to take the large number of minor variants and reduce them\n",
        "#   to a columns mapped to greek letter variants. Example, in the source data\n",
        "#   A.23.1 is an Alpha variant and will be aggregated within the Alpha variants.\n",
        "# Use regex and/or map the columns to Greek base variants for dimensionality reduction\n",
        "def aggregate_variant_columns(df):\n",
        "    # Create a map of letter variants to Greek letter variants. Some of these don't have\n",
        "    #   Greek equivalents so we were somewhat creative\n",
        "    letter_to_greek = {\n",
        "      'A (Lineage)': 'Alpha',\n",
        "      'A.23.1': 'Alpha',\n",
        "      'A.27': 'Alpha',\n",
        "      'A.28': 'Alpha',\n",
        "      'AD (Lineage)': 'Alpha',\n",
        "      'AE (Lineage)': 'Alpha',\n",
        "      'AK (Lineage)': 'Alpha',\n",
        "      'AL (Lineage)': 'Alpha',\n",
        "      'AM (Lineage)': 'Alpha',\n",
        "      'AP (Lineage)': 'Alpha',\n",
        "      'AU (Lineage)': 'Alpha',\n",
        "      'AW (Lineage)': 'Alpha',\n",
        "      'AZ (Lineage)': 'Alpha',\n",
        "      'B (Lineage)': 'Beta',\n",
        "      'B.1.1.277 - 20B/S:626S': 'Beta',\n",
        "      'B.1.1.28': 'Beta',\n",
        "      'B.1.1.318 (WHO AFM)': 'Beta',\n",
        "      'B.1.1.519 - 20B/S:732A': 'Beta',\n",
        "      'B.1.1.523 (WHO AFM)': 'Beta',\n",
        "      'B.1.160 - 20A/EU2': 'Beta',\n",
        "      'B.1.177 - 20E/EU1': 'Beta',\n",
        "      'B.1.214.2 (WHO AFM)': 'Beta',\n",
        "      'B.1.221 - 20A/S:98F': 'Beta',\n",
        "      'B.1.258 - 20A/S:439K': 'Beta',\n",
        "      'B.1.367 - 20C/S:80Y': 'Beta',\n",
        "      'B.1.466.2 (WHO AFM)': 'Beta',\n",
        "      'B.1.617.3 (CDC VBM)': 'Beta',\n",
        "      'B.1.619 (WHO AFM)': 'Beta',\n",
        "      'B.1.620 - 20A/S:126A': 'Beta',\n",
        "      'B.1.623 (PHE VUI)': 'Beta',\n",
        "      'B.1.630 (WHO AFM)': 'Beta',\n",
        "      'Beta (WHO VOC)': 'Beta',\n",
        "      'C (Lineage)': 'Kappa',\n",
        "      'C.1.2 (WHO AFM)': 'Kappa',\n",
        "      'C.16': 'Kappa',\n",
        "      'C.36 (ECDC VUM)': 'Kappa',\n",
        "      'C.36.3 (WHO AFM)': 'Kappa',\n",
        "      'D (Lineage)': 'Delta',\n",
        "      'L (Lineage)': 'Lambda',\n",
        "      'N (Lineage)': 'Nu',\n",
        "      'P (Lineage)': 'Pi',\n",
        "      'P.6 (UY-GTI)': 'Pi',\n",
        "      'P.7': 'Pi',\n",
        "      'R.1 (WHO AFM)': 'Rho',\n",
        "      'R.2': 'Rho',\n",
        "      'S (Lineage)': 'Sigma',\n",
        "      'W (Lineage)': 'Upsilon',\n",
        "      'XA (Lineage)': 'Chi'\n",
        "    }\n",
        "\n",
        "    # Create a mapping from original column names to base variant types\n",
        "    variant_mapping = {}\n",
        "    base_variants = set()\n",
        "\n",
        "    # Process column names one at a time to extract the base variant\n",
        "    for col in df.columns:\n",
        "        base_variant = None\n",
        "\n",
        "        # Check for exact matches in letter_to_greek first\n",
        "        exact_match = False\n",
        "        # Loop through the variants and check in the letter/greek map for it\n",
        "        for letter_variant, greek_variant in letter_to_greek.items():\n",
        "            if col.startswith(letter_variant):  # Check for a hit\n",
        "                base_variant = greek_variant    # found it, set this to the greek letter\n",
        "                exact_match = True\n",
        "                break\n",
        "\n",
        "        if not exact_match:\n",
        "            # It's not in the map so use regex.\n",
        "            # We did both because there are a lot of columns and this mad the map smaller\n",
        "            # For Greek letter variants like \"Theta - P.3 (PHE VUI)\"\n",
        "            match = re.search(r'^(Alpha|Beta|Gamma|Delta|Epsilon|Zeta|Eta|Theta|Iota|Kappa|Lambda|Mu|Nu|Xi|Omicron|Pi|Rho|Sigma|Tau|Upsilon|Phi|Chi|Psi|Omega)\\s*-?', col)\n",
        "            if match:                         # Check with \"starts with\" regex\n",
        "                base_variant = match.group(1) # Found it using \"starts with\" regex\n",
        "            else:\n",
        "                pass                          # Didn't find it but that means it's from the mapping\n",
        "\n",
        "        if base_variant:                      # now we're adding our greek base variant as a column\n",
        "            variant_mapping[col] = base_variant\n",
        "            base_variants.add(base_variant)\n",
        "\n",
        "    # Create a new dataframe with non-variant columns\n",
        "    non_variant_cols = [col for col in df.columns if col not in variant_mapping]\n",
        "    result_df = df[non_variant_cols].copy()\n",
        "\n",
        "    # Now we have our base variant list. Use the mapping to allocate variant counts to the greek base\n",
        "    for base_variant in base_variants:\n",
        "        # Get all columns that map to this base variant\n",
        "        related_columns = [col for col, variant in variant_mapping.items() if variant == base_variant]\n",
        "\n",
        "        # Now sum all the related columns and allocate that sum to the greek base variant\n",
        "        if related_columns:\n",
        "            # Sum across all related columns\n",
        "            result_df[base_variant] = df[related_columns].sum(axis=1)\n",
        "\n",
        "    return result_df\n",
        "\n",
        "# -------------------------------------------------------------------------------\n",
        "\n",
        "# This method will look at the covid variants and add a column indicating which\n",
        "#   has the highest value for the date. Note that the sum of the values for all\n",
        "#   variants in the row adds up to 100 (within rounding error limits)\n",
        "def compute_highest_variant(df):\n",
        "  # Identify numeric columns\n",
        "  numeric_cols = df.select_dtypes(include='number').columns\n",
        "\n",
        "  # Find the max value per row\n",
        "  max_values = df[numeric_cols].max(axis=1)\n",
        "\n",
        "  # Find the column with the highest value\n",
        "  df['HighestVariant'] = df[numeric_cols].idxmax(axis=1)\n",
        "\n",
        "  # If the max value is 0, replace with \"Other\"\n",
        "  df.loc[max_values == 0, 'HighestVariant'] = \"Unknown\"\n",
        "  return df\n",
        "\n",
        "# ------------------------------------------------------------------------\n",
        "# Based on feedback we'll also do some smoothing over the synthetic time series\n",
        "#   we filled in. Since we filled down instead of up then down this smoothing\n",
        "#   will not overcome zeroes in the start of the data series\n",
        "def ema_smooth_numeric_cols(df, smoothing_period = 3):\n",
        "\n",
        "    # lambda through the cols and if numeric, ema smooth it\n",
        "    return df.apply(lambda col: __do_ema_smooth(col) if col.dtype in ['float64', 'int64'] else col)\n",
        "\n",
        "def __do_ema_smooth(variant_col, smoothing_period=3):\n",
        "    # create a simple exponential smoothing\n",
        "    model = SimpleExpSmoothing(variant_col, initialization_method=\"heuristic\")\n",
        "    fitted_model = model.fit(smoothing_level=2/(smoothing_period+1), optimized=False) # had to look this one up\n",
        "    return fitted_model.fittedvalues\n",
        "\n",
        "\n",
        "\n",
        "\n",
        "\n",
        "# ------------------------------------------------------------------------\n",
        "# define a reusable preprocessor we can use again on the test data later\n",
        "def do_preproc(X_features_in, y_target_variable_in, transform_only):\n",
        "  '''\n",
        "    parameters:\n",
        "      X_features: the X series in its raw incoming format to apply transforms to\n",
        "      y_targer_variable: the y series we'll have as our prediction target\n",
        "      transform_only: True/False, for training we want to fit_transform models.\n",
        "            for test data we only want to transform using the fit we made in training.\n",
        "  '''\n",
        "\n",
        "  # make copies so we aren't modifying the original data. Allows us to re-run code blocks\n",
        "  X_features = X_features_in.copy()\n",
        "  y_target_variable = y_target_variable_in.copy()\n",
        "\n",
        "  if transform_only:\n",
        "    y_target_ohe = ohe_variant.transform(y_target_variable.values.reshape(-1, 1)).toarray()\n",
        "  else:\n",
        "    y_target_ohe = ohe_variant.fit_transform(y_target_variable.values.reshape(-1, 1)).toarray()\n",
        "\n",
        "  # -------------------------------- label/string encoding ------------------------\n",
        "  # Perform label encoding on the 'Country' column\n",
        "  if transform_only:\n",
        "    X_features['Country'] = country_encoder.transform(X_features['Country'])\n",
        "  else:\n",
        "    X_features['Country'] = country_encoder.fit_transform(X_features['Country'])\n",
        "\n",
        "  # Perform label encoding on the 'HighestVariant' column\n",
        "  #X_features['HighestVariant'] = variant_encoder.fit_transform(X_features['HighestVariant'])\n",
        "\n",
        "  # encoder may not have all the countries in the covid list so impute missing\n",
        "  X_features['Country'] = X_features['Country'].map(lambda s: '<unknown>' if s not in country_encoder.classes_ else s)\n",
        "  country_encoder.classes_ = np.append(country_encoder.classes_, '<unknown>')\n",
        "\n",
        "  # Now do it on the COVID 'location' column\n",
        "  X_features['Country'] = country_encoder.transform(X_features['Country'])\n",
        "\n",
        "  print(\"Label encoding completed.\")\n",
        "  # ------------------------------------------------------------------------------\n",
        "\n",
        "  # -------------------------------- numerical scaling-----------------------------\n",
        "  # renaming the columns for addressing more easily\n",
        "  X_features = X_features.rename(columns={'Environment: Urbanization - urban population': 'UrbanPop',\n",
        "                'People and Society: Hospital bed density':'HospBedDensity',\n",
        "                'People and Society: Obesity - adult prevalence rate':'Obesity'})\n",
        "\n",
        "  # scale the date in the COVID dataset\n",
        "  # Convert to timestamp (integer seconds since epoch)\n",
        "  X_features['date_numeric'] = X_features['date'].astype('int64') // 10**9  # Convert to seconds\n",
        "\n",
        "  if transform_only:\n",
        "    X_features['scaled_date'] = covid_date_scaler.transform(X_features[['date_numeric']])\n",
        "  else:\n",
        "    X_features['scaled_date'] = covid_date_scaler.fit_transform(X_features[['date_numeric']])\n",
        "\n",
        "  X_features.drop(columns=['date_numeric'], inplace=True)\n",
        "\n",
        "\n",
        "  numeric_regex = \"(\\d+(\\.\\d+)?)\"\n",
        "  X_features['UrbanPop'] = X_features['UrbanPop'].str.extract(numeric_regex)[0].fillna(0).astype(float)\n",
        "  X_features['HospBedDensity'] = X_features['HospBedDensity'].str.extract(numeric_regex)[0].fillna(0).astype(float)\n",
        "  X_features['Obesity'] = X_features['Obesity'].str.extract(numeric_regex)[0].fillna(0).astype(float)\n",
        "\n",
        "  # Clean numerical columns\n",
        "  numerical_columns = [\n",
        "      'UrbanPop',\n",
        "      'HospBedDensity',\n",
        "      'Obesity'\n",
        "  ]\n",
        "\n",
        "\n",
        "  print(\"Numerical columns cleaned and renamed.\")\n",
        "\n",
        "  # Perform data normalization on numerical columns\n",
        "  if transform_only:\n",
        "    X_features[numerical_columns] = country_metric_scaler.transform(X_features[numerical_columns])\n",
        "  else:\n",
        "    X_features[numerical_columns] = country_metric_scaler.fit_transform(X_features[numerical_columns])\n",
        "\n",
        "\n",
        "  print(\"Data normalization completed.\")\n",
        "  return X_features, y_target_ohe\n"
      ],
      "metadata": {
        "id": "GJsVgXK9aD85"
      },
      "execution_count": 18,
      "outputs": []
    },
    {
      "cell_type": "code",
      "execution_count": 19,
      "metadata": {
        "id": "tBn7amTQ1bDU",
        "colab": {
          "base_uri": "https://localhost:8080/"
        },
        "outputId": "d877fb20-bf81-4840-b061-fa15460c76b9"
      },
      "outputs": [
        {
          "output_type": "execute_result",
          "data": {
            "text/plain": [
              "Index(['Country', 'date', 'Other', 'Alpha', 'Iota', 'Sigma', 'Nu', 'Beta',\n",
              "       'Rho', 'Gamma', 'Upsilon', 'Chi', 'Kappa', 'Lambda', 'Eta', 'Mu', 'Pi',\n",
              "       'Epsilon', 'Zeta', 'Delta', 'Theta'],\n",
              "      dtype='object')"
            ]
          },
          "metadata": {},
          "execution_count": 19
        }
      ],
      "source": [
        "\n",
        "local_combined_df.rename(columns={\"location\":\"Country\"},  inplace=True)\n",
        "aggregated_df = aggregate_variant_columns(local_combined_df)\n",
        "pd.set_option('display.max_columns', None)\n",
        "aggregated_df.columns"
      ]
    },
    {
      "cell_type": "code",
      "source": [
        "# At this point we'll generate a date series to ensure each country/date combo has a value\n",
        "gen_dates_df = fill_missing_dates(aggregated_df)                                    # generate dates and fill holes\n",
        "highest_variant_df = compute_highest_variant(gen_dates_df)                          # add the highest variant for the row\n",
        "\n",
        "# we wrote, tested, and executed EMA but it made our results worse in this case\n",
        "# the simple \"fill down\" approach using the same value for a date until a new valid date with value was found\n",
        "####ema_smoothed_df = ema_smooth_numeric_cols(highest_variant_df, smoothing_period = 11) # do exponential smoothing on the variant date series\n",
        "\n",
        "combined_df = highest_variant_df.copy()               # make our dataset we'll use from here\n",
        "combined_df.head(5)"
      ],
      "metadata": {
        "id": "0Gb4cyX8rqBn",
        "colab": {
          "base_uri": "https://localhost:8080/",
          "height": 261
        },
        "outputId": "d5e52868-f60c-4ff4-c218-267b3591b082"
      },
      "execution_count": 20,
      "outputs": [
        {
          "output_type": "stream",
          "name": "stderr",
          "text": [
            "<ipython-input-18-e7e109b2f8ce>:34: FutureWarning: Downcasting object dtype arrays on .fillna, .ffill, .bfill is deprecated and will change in a future version. Call result.infer_objects(copy=False) instead. To opt-in to the future behavior, set `pd.set_option('future.no_silent_downcasting', True)`\n",
            "  merged_df.fillna(0.0, inplace=True)\n"
          ]
        },
        {
          "output_type": "execute_result",
          "data": {
            "text/plain": [
              "          Country       date  Other  Alpha  Iota  Sigma   Nu  Beta  Rho  \\\n",
              "4708  Afghanistan 2019-12-29    0.0    0.0   0.0    0.0  0.0   0.0  0.0   \n",
              "4709  Afghanistan 2019-12-30    0.0    0.0   0.0    0.0  0.0   0.0  0.0   \n",
              "4710  Afghanistan 2019-12-31    0.0    0.0   0.0    0.0  0.0   0.0  0.0   \n",
              "4711  Afghanistan 2020-01-01    0.0    0.0   0.0    0.0  0.0   0.0  0.0   \n",
              "4712  Afghanistan 2020-01-02    0.0    0.0   0.0    0.0  0.0   0.0  0.0   \n",
              "\n",
              "      Gamma  Upsilon  Chi  Kappa  Lambda  Eta   Mu   Pi  Epsilon  Zeta  Delta  \\\n",
              "4708    0.0      0.0  0.0    0.0     0.0  0.0  0.0  0.0      0.0   0.0    0.0   \n",
              "4709    0.0      0.0  0.0    0.0     0.0  0.0  0.0  0.0      0.0   0.0    0.0   \n",
              "4710    0.0      0.0  0.0    0.0     0.0  0.0  0.0  0.0      0.0   0.0    0.0   \n",
              "4711    0.0      0.0  0.0    0.0     0.0  0.0  0.0  0.0      0.0   0.0    0.0   \n",
              "4712    0.0      0.0  0.0    0.0     0.0  0.0  0.0  0.0      0.0   0.0    0.0   \n",
              "\n",
              "      Theta HighestVariant  \n",
              "4708    0.0        Unknown  \n",
              "4709    0.0        Unknown  \n",
              "4710    0.0        Unknown  \n",
              "4711    0.0        Unknown  \n",
              "4712    0.0        Unknown  "
            ],
            "text/html": [
              "\n",
              "  <div id=\"df-3f3adaf7-04e6-4e98-be75-70d87db88718\" class=\"colab-df-container\">\n",
              "    <div>\n",
              "<style scoped>\n",
              "    .dataframe tbody tr th:only-of-type {\n",
              "        vertical-align: middle;\n",
              "    }\n",
              "\n",
              "    .dataframe tbody tr th {\n",
              "        vertical-align: top;\n",
              "    }\n",
              "\n",
              "    .dataframe thead th {\n",
              "        text-align: right;\n",
              "    }\n",
              "</style>\n",
              "<table border=\"1\" class=\"dataframe\">\n",
              "  <thead>\n",
              "    <tr style=\"text-align: right;\">\n",
              "      <th></th>\n",
              "      <th>Country</th>\n",
              "      <th>date</th>\n",
              "      <th>Other</th>\n",
              "      <th>Alpha</th>\n",
              "      <th>Iota</th>\n",
              "      <th>Sigma</th>\n",
              "      <th>Nu</th>\n",
              "      <th>Beta</th>\n",
              "      <th>Rho</th>\n",
              "      <th>Gamma</th>\n",
              "      <th>Upsilon</th>\n",
              "      <th>Chi</th>\n",
              "      <th>Kappa</th>\n",
              "      <th>Lambda</th>\n",
              "      <th>Eta</th>\n",
              "      <th>Mu</th>\n",
              "      <th>Pi</th>\n",
              "      <th>Epsilon</th>\n",
              "      <th>Zeta</th>\n",
              "      <th>Delta</th>\n",
              "      <th>Theta</th>\n",
              "      <th>HighestVariant</th>\n",
              "    </tr>\n",
              "  </thead>\n",
              "  <tbody>\n",
              "    <tr>\n",
              "      <th>4708</th>\n",
              "      <td>Afghanistan</td>\n",
              "      <td>2019-12-29</td>\n",
              "      <td>0.0</td>\n",
              "      <td>0.0</td>\n",
              "      <td>0.0</td>\n",
              "      <td>0.0</td>\n",
              "      <td>0.0</td>\n",
              "      <td>0.0</td>\n",
              "      <td>0.0</td>\n",
              "      <td>0.0</td>\n",
              "      <td>0.0</td>\n",
              "      <td>0.0</td>\n",
              "      <td>0.0</td>\n",
              "      <td>0.0</td>\n",
              "      <td>0.0</td>\n",
              "      <td>0.0</td>\n",
              "      <td>0.0</td>\n",
              "      <td>0.0</td>\n",
              "      <td>0.0</td>\n",
              "      <td>0.0</td>\n",
              "      <td>0.0</td>\n",
              "      <td>Unknown</td>\n",
              "    </tr>\n",
              "    <tr>\n",
              "      <th>4709</th>\n",
              "      <td>Afghanistan</td>\n",
              "      <td>2019-12-30</td>\n",
              "      <td>0.0</td>\n",
              "      <td>0.0</td>\n",
              "      <td>0.0</td>\n",
              "      <td>0.0</td>\n",
              "      <td>0.0</td>\n",
              "      <td>0.0</td>\n",
              "      <td>0.0</td>\n",
              "      <td>0.0</td>\n",
              "      <td>0.0</td>\n",
              "      <td>0.0</td>\n",
              "      <td>0.0</td>\n",
              "      <td>0.0</td>\n",
              "      <td>0.0</td>\n",
              "      <td>0.0</td>\n",
              "      <td>0.0</td>\n",
              "      <td>0.0</td>\n",
              "      <td>0.0</td>\n",
              "      <td>0.0</td>\n",
              "      <td>0.0</td>\n",
              "      <td>Unknown</td>\n",
              "    </tr>\n",
              "    <tr>\n",
              "      <th>4710</th>\n",
              "      <td>Afghanistan</td>\n",
              "      <td>2019-12-31</td>\n",
              "      <td>0.0</td>\n",
              "      <td>0.0</td>\n",
              "      <td>0.0</td>\n",
              "      <td>0.0</td>\n",
              "      <td>0.0</td>\n",
              "      <td>0.0</td>\n",
              "      <td>0.0</td>\n",
              "      <td>0.0</td>\n",
              "      <td>0.0</td>\n",
              "      <td>0.0</td>\n",
              "      <td>0.0</td>\n",
              "      <td>0.0</td>\n",
              "      <td>0.0</td>\n",
              "      <td>0.0</td>\n",
              "      <td>0.0</td>\n",
              "      <td>0.0</td>\n",
              "      <td>0.0</td>\n",
              "      <td>0.0</td>\n",
              "      <td>0.0</td>\n",
              "      <td>Unknown</td>\n",
              "    </tr>\n",
              "    <tr>\n",
              "      <th>4711</th>\n",
              "      <td>Afghanistan</td>\n",
              "      <td>2020-01-01</td>\n",
              "      <td>0.0</td>\n",
              "      <td>0.0</td>\n",
              "      <td>0.0</td>\n",
              "      <td>0.0</td>\n",
              "      <td>0.0</td>\n",
              "      <td>0.0</td>\n",
              "      <td>0.0</td>\n",
              "      <td>0.0</td>\n",
              "      <td>0.0</td>\n",
              "      <td>0.0</td>\n",
              "      <td>0.0</td>\n",
              "      <td>0.0</td>\n",
              "      <td>0.0</td>\n",
              "      <td>0.0</td>\n",
              "      <td>0.0</td>\n",
              "      <td>0.0</td>\n",
              "      <td>0.0</td>\n",
              "      <td>0.0</td>\n",
              "      <td>0.0</td>\n",
              "      <td>Unknown</td>\n",
              "    </tr>\n",
              "    <tr>\n",
              "      <th>4712</th>\n",
              "      <td>Afghanistan</td>\n",
              "      <td>2020-01-02</td>\n",
              "      <td>0.0</td>\n",
              "      <td>0.0</td>\n",
              "      <td>0.0</td>\n",
              "      <td>0.0</td>\n",
              "      <td>0.0</td>\n",
              "      <td>0.0</td>\n",
              "      <td>0.0</td>\n",
              "      <td>0.0</td>\n",
              "      <td>0.0</td>\n",
              "      <td>0.0</td>\n",
              "      <td>0.0</td>\n",
              "      <td>0.0</td>\n",
              "      <td>0.0</td>\n",
              "      <td>0.0</td>\n",
              "      <td>0.0</td>\n",
              "      <td>0.0</td>\n",
              "      <td>0.0</td>\n",
              "      <td>0.0</td>\n",
              "      <td>0.0</td>\n",
              "      <td>Unknown</td>\n",
              "    </tr>\n",
              "  </tbody>\n",
              "</table>\n",
              "</div>\n",
              "    <div class=\"colab-df-buttons\">\n",
              "\n",
              "  <div class=\"colab-df-container\">\n",
              "    <button class=\"colab-df-convert\" onclick=\"convertToInteractive('df-3f3adaf7-04e6-4e98-be75-70d87db88718')\"\n",
              "            title=\"Convert this dataframe to an interactive table.\"\n",
              "            style=\"display:none;\">\n",
              "\n",
              "  <svg xmlns=\"http://www.w3.org/2000/svg\" height=\"24px\" viewBox=\"0 -960 960 960\">\n",
              "    <path d=\"M120-120v-720h720v720H120Zm60-500h600v-160H180v160Zm220 220h160v-160H400v160Zm0 220h160v-160H400v160ZM180-400h160v-160H180v160Zm440 0h160v-160H620v160ZM180-180h160v-160H180v160Zm440 0h160v-160H620v160Z\"/>\n",
              "  </svg>\n",
              "    </button>\n",
              "\n",
              "  <style>\n",
              "    .colab-df-container {\n",
              "      display:flex;\n",
              "      gap: 12px;\n",
              "    }\n",
              "\n",
              "    .colab-df-convert {\n",
              "      background-color: #E8F0FE;\n",
              "      border: none;\n",
              "      border-radius: 50%;\n",
              "      cursor: pointer;\n",
              "      display: none;\n",
              "      fill: #1967D2;\n",
              "      height: 32px;\n",
              "      padding: 0 0 0 0;\n",
              "      width: 32px;\n",
              "    }\n",
              "\n",
              "    .colab-df-convert:hover {\n",
              "      background-color: #E2EBFA;\n",
              "      box-shadow: 0px 1px 2px rgba(60, 64, 67, 0.3), 0px 1px 3px 1px rgba(60, 64, 67, 0.15);\n",
              "      fill: #174EA6;\n",
              "    }\n",
              "\n",
              "    .colab-df-buttons div {\n",
              "      margin-bottom: 4px;\n",
              "    }\n",
              "\n",
              "    [theme=dark] .colab-df-convert {\n",
              "      background-color: #3B4455;\n",
              "      fill: #D2E3FC;\n",
              "    }\n",
              "\n",
              "    [theme=dark] .colab-df-convert:hover {\n",
              "      background-color: #434B5C;\n",
              "      box-shadow: 0px 1px 3px 1px rgba(0, 0, 0, 0.15);\n",
              "      filter: drop-shadow(0px 1px 2px rgba(0, 0, 0, 0.3));\n",
              "      fill: #FFFFFF;\n",
              "    }\n",
              "  </style>\n",
              "\n",
              "    <script>\n",
              "      const buttonEl =\n",
              "        document.querySelector('#df-3f3adaf7-04e6-4e98-be75-70d87db88718 button.colab-df-convert');\n",
              "      buttonEl.style.display =\n",
              "        google.colab.kernel.accessAllowed ? 'block' : 'none';\n",
              "\n",
              "      async function convertToInteractive(key) {\n",
              "        const element = document.querySelector('#df-3f3adaf7-04e6-4e98-be75-70d87db88718');\n",
              "        const dataTable =\n",
              "          await google.colab.kernel.invokeFunction('convertToInteractive',\n",
              "                                                    [key], {});\n",
              "        if (!dataTable) return;\n",
              "\n",
              "        const docLinkHtml = 'Like what you see? Visit the ' +\n",
              "          '<a target=\"_blank\" href=https://colab.research.google.com/notebooks/data_table.ipynb>data table notebook</a>'\n",
              "          + ' to learn more about interactive tables.';\n",
              "        element.innerHTML = '';\n",
              "        dataTable['output_type'] = 'display_data';\n",
              "        await google.colab.output.renderOutput(dataTable, element);\n",
              "        const docLink = document.createElement('div');\n",
              "        docLink.innerHTML = docLinkHtml;\n",
              "        element.appendChild(docLink);\n",
              "      }\n",
              "    </script>\n",
              "  </div>\n",
              "\n",
              "\n",
              "<div id=\"df-33fe3260-8eaf-4789-ab2d-f0b84b561b18\">\n",
              "  <button class=\"colab-df-quickchart\" onclick=\"quickchart('df-33fe3260-8eaf-4789-ab2d-f0b84b561b18')\"\n",
              "            title=\"Suggest charts\"\n",
              "            style=\"display:none;\">\n",
              "\n",
              "<svg xmlns=\"http://www.w3.org/2000/svg\" height=\"24px\"viewBox=\"0 0 24 24\"\n",
              "     width=\"24px\">\n",
              "    <g>\n",
              "        <path d=\"M19 3H5c-1.1 0-2 .9-2 2v14c0 1.1.9 2 2 2h14c1.1 0 2-.9 2-2V5c0-1.1-.9-2-2-2zM9 17H7v-7h2v7zm4 0h-2V7h2v10zm4 0h-2v-4h2v4z\"/>\n",
              "    </g>\n",
              "</svg>\n",
              "  </button>\n",
              "\n",
              "<style>\n",
              "  .colab-df-quickchart {\n",
              "      --bg-color: #E8F0FE;\n",
              "      --fill-color: #1967D2;\n",
              "      --hover-bg-color: #E2EBFA;\n",
              "      --hover-fill-color: #174EA6;\n",
              "      --disabled-fill-color: #AAA;\n",
              "      --disabled-bg-color: #DDD;\n",
              "  }\n",
              "\n",
              "  [theme=dark] .colab-df-quickchart {\n",
              "      --bg-color: #3B4455;\n",
              "      --fill-color: #D2E3FC;\n",
              "      --hover-bg-color: #434B5C;\n",
              "      --hover-fill-color: #FFFFFF;\n",
              "      --disabled-bg-color: #3B4455;\n",
              "      --disabled-fill-color: #666;\n",
              "  }\n",
              "\n",
              "  .colab-df-quickchart {\n",
              "    background-color: var(--bg-color);\n",
              "    border: none;\n",
              "    border-radius: 50%;\n",
              "    cursor: pointer;\n",
              "    display: none;\n",
              "    fill: var(--fill-color);\n",
              "    height: 32px;\n",
              "    padding: 0;\n",
              "    width: 32px;\n",
              "  }\n",
              "\n",
              "  .colab-df-quickchart:hover {\n",
              "    background-color: var(--hover-bg-color);\n",
              "    box-shadow: 0 1px 2px rgba(60, 64, 67, 0.3), 0 1px 3px 1px rgba(60, 64, 67, 0.15);\n",
              "    fill: var(--button-hover-fill-color);\n",
              "  }\n",
              "\n",
              "  .colab-df-quickchart-complete:disabled,\n",
              "  .colab-df-quickchart-complete:disabled:hover {\n",
              "    background-color: var(--disabled-bg-color);\n",
              "    fill: var(--disabled-fill-color);\n",
              "    box-shadow: none;\n",
              "  }\n",
              "\n",
              "  .colab-df-spinner {\n",
              "    border: 2px solid var(--fill-color);\n",
              "    border-color: transparent;\n",
              "    border-bottom-color: var(--fill-color);\n",
              "    animation:\n",
              "      spin 1s steps(1) infinite;\n",
              "  }\n",
              "\n",
              "  @keyframes spin {\n",
              "    0% {\n",
              "      border-color: transparent;\n",
              "      border-bottom-color: var(--fill-color);\n",
              "      border-left-color: var(--fill-color);\n",
              "    }\n",
              "    20% {\n",
              "      border-color: transparent;\n",
              "      border-left-color: var(--fill-color);\n",
              "      border-top-color: var(--fill-color);\n",
              "    }\n",
              "    30% {\n",
              "      border-color: transparent;\n",
              "      border-left-color: var(--fill-color);\n",
              "      border-top-color: var(--fill-color);\n",
              "      border-right-color: var(--fill-color);\n",
              "    }\n",
              "    40% {\n",
              "      border-color: transparent;\n",
              "      border-right-color: var(--fill-color);\n",
              "      border-top-color: var(--fill-color);\n",
              "    }\n",
              "    60% {\n",
              "      border-color: transparent;\n",
              "      border-right-color: var(--fill-color);\n",
              "    }\n",
              "    80% {\n",
              "      border-color: transparent;\n",
              "      border-right-color: var(--fill-color);\n",
              "      border-bottom-color: var(--fill-color);\n",
              "    }\n",
              "    90% {\n",
              "      border-color: transparent;\n",
              "      border-bottom-color: var(--fill-color);\n",
              "    }\n",
              "  }\n",
              "</style>\n",
              "\n",
              "  <script>\n",
              "    async function quickchart(key) {\n",
              "      const quickchartButtonEl =\n",
              "        document.querySelector('#' + key + ' button');\n",
              "      quickchartButtonEl.disabled = true;  // To prevent multiple clicks.\n",
              "      quickchartButtonEl.classList.add('colab-df-spinner');\n",
              "      try {\n",
              "        const charts = await google.colab.kernel.invokeFunction(\n",
              "            'suggestCharts', [key], {});\n",
              "      } catch (error) {\n",
              "        console.error('Error during call to suggestCharts:', error);\n",
              "      }\n",
              "      quickchartButtonEl.classList.remove('colab-df-spinner');\n",
              "      quickchartButtonEl.classList.add('colab-df-quickchart-complete');\n",
              "    }\n",
              "    (() => {\n",
              "      let quickchartButtonEl =\n",
              "        document.querySelector('#df-33fe3260-8eaf-4789-ab2d-f0b84b561b18 button');\n",
              "      quickchartButtonEl.style.display =\n",
              "        google.colab.kernel.accessAllowed ? 'block' : 'none';\n",
              "    })();\n",
              "  </script>\n",
              "</div>\n",
              "\n",
              "    </div>\n",
              "  </div>\n"
            ],
            "application/vnd.google.colaboratory.intrinsic+json": {
              "type": "dataframe",
              "variable_name": "combined_df"
            }
          },
          "metadata": {},
          "execution_count": 20
        }
      ]
    },
    {
      "cell_type": "markdown",
      "source": [
        "**Convert Columns to Strings and Merge Dataframes**"
      ],
      "metadata": {
        "id": "jbsPRw0_nFXe"
      }
    },
    {
      "cell_type": "code",
      "source": [
        "\n",
        "# Merge dataframes on a common column (e.g., 'Country' and 'location')\n",
        "merged_df = pd.merge(country_df, combined_df, left_on='Country', right_on='Country')\n",
        "print(\"Data combined successfully.\")\n",
        "print(merged_df.head(5))\n",
        "\n",
        "# Make copies so we can do work without affecting the original\n",
        "local_merged_df = merged_df.copy()"
      ],
      "metadata": {
        "id": "zFogeUO1nJL-",
        "colab": {
          "base_uri": "https://localhost:8080/"
        },
        "outputId": "5aee1d72-37f2-4e46-e6c9-04278daaaab4"
      },
      "execution_count": 21,
      "outputs": [
        {
          "output_type": "stream",
          "name": "stdout",
          "text": [
            "Data combined successfully.\n",
            "         Country Environment: Urbanization - urban population  \\\n",
            "0  United States             83.3% of total population (2023)   \n",
            "1  United States             83.3% of total population (2023)   \n",
            "2  United States             83.3% of total population (2023)   \n",
            "3  United States             83.3% of total population (2023)   \n",
            "4  United States             83.3% of total population (2023)   \n",
            "\n",
            "  People and Society: Hospital bed density  \\\n",
            "0         2.9 beds/1,000 population (2017)   \n",
            "1         2.9 beds/1,000 population (2017)   \n",
            "2         2.9 beds/1,000 population (2017)   \n",
            "3         2.9 beds/1,000 population (2017)   \n",
            "4         2.9 beds/1,000 population (2017)   \n",
            "\n",
            "  People and Society: Obesity - adult prevalence rate       date  Other  \\\n",
            "0                                       36.2% (2016)  2019-12-29    0.0   \n",
            "1                                       36.2% (2016)  2019-12-30    0.0   \n",
            "2                                       36.2% (2016)  2019-12-31    0.0   \n",
            "3                                       36.2% (2016)  2020-01-01    0.0   \n",
            "4                                       36.2% (2016)  2020-01-02    0.0   \n",
            "\n",
            "   Alpha  Iota  Sigma   Nu  Beta  Rho  Gamma  Upsilon  Chi  Kappa  Lambda  \\\n",
            "0    0.0   0.0    0.0  0.0   0.0  0.0    0.0      0.0  0.0    0.0     0.0   \n",
            "1    0.0   0.0    0.0  0.0   0.0  0.0    0.0      0.0  0.0    0.0     0.0   \n",
            "2    0.0   0.0    0.0  0.0   0.0  0.0    0.0      0.0  0.0    0.0     0.0   \n",
            "3    0.0   0.0    0.0  0.0   0.0  0.0    0.0      0.0  0.0    0.0     0.0   \n",
            "4    0.0   0.0    0.0  0.0   0.0  0.0    0.0      0.0  0.0    0.0     0.0   \n",
            "\n",
            "   Eta   Mu   Pi  Epsilon  Zeta  Delta  Theta HighestVariant  \n",
            "0  0.0  0.0  0.0      0.0   0.0    0.0    0.0        Unknown  \n",
            "1  0.0  0.0  0.0      0.0   0.0    0.0    0.0        Unknown  \n",
            "2  0.0  0.0  0.0      0.0   0.0    0.0    0.0        Unknown  \n",
            "3  0.0  0.0  0.0      0.0   0.0    0.0    0.0        Unknown  \n",
            "4  0.0  0.0  0.0      0.0   0.0    0.0    0.0        Unknown  \n"
          ]
        }
      ]
    },
    {
      "cell_type": "code",
      "source": [
        "local_merged_df[\"HighestVariant\"].value_counts()"
      ],
      "metadata": {
        "id": "y5vyb65F4JWn",
        "colab": {
          "base_uri": "https://localhost:8080/",
          "height": 460
        },
        "outputId": "8153af24-25cf-4dc9-e46f-b99eeded1cd7"
      },
      "execution_count": 22,
      "outputs": [
        {
          "output_type": "execute_result",
          "data": {
            "text/plain": [
              "HighestVariant\n",
              "Unknown    138072\n",
              "Beta        77362\n",
              "Alpha        5979\n",
              "Delta        3604\n",
              "Kappa        1414\n",
              "Pi            350\n",
              "Nu            294\n",
              "Lambda         84\n",
              "Epsilon        28\n",
              "Mu             14\n",
              "Other          14\n",
              "Name: count, dtype: int64"
            ],
            "text/html": [
              "<div>\n",
              "<style scoped>\n",
              "    .dataframe tbody tr th:only-of-type {\n",
              "        vertical-align: middle;\n",
              "    }\n",
              "\n",
              "    .dataframe tbody tr th {\n",
              "        vertical-align: top;\n",
              "    }\n",
              "\n",
              "    .dataframe thead th {\n",
              "        text-align: right;\n",
              "    }\n",
              "</style>\n",
              "<table border=\"1\" class=\"dataframe\">\n",
              "  <thead>\n",
              "    <tr style=\"text-align: right;\">\n",
              "      <th></th>\n",
              "      <th>count</th>\n",
              "    </tr>\n",
              "    <tr>\n",
              "      <th>HighestVariant</th>\n",
              "      <th></th>\n",
              "    </tr>\n",
              "  </thead>\n",
              "  <tbody>\n",
              "    <tr>\n",
              "      <th>Unknown</th>\n",
              "      <td>138072</td>\n",
              "    </tr>\n",
              "    <tr>\n",
              "      <th>Beta</th>\n",
              "      <td>77362</td>\n",
              "    </tr>\n",
              "    <tr>\n",
              "      <th>Alpha</th>\n",
              "      <td>5979</td>\n",
              "    </tr>\n",
              "    <tr>\n",
              "      <th>Delta</th>\n",
              "      <td>3604</td>\n",
              "    </tr>\n",
              "    <tr>\n",
              "      <th>Kappa</th>\n",
              "      <td>1414</td>\n",
              "    </tr>\n",
              "    <tr>\n",
              "      <th>Pi</th>\n",
              "      <td>350</td>\n",
              "    </tr>\n",
              "    <tr>\n",
              "      <th>Nu</th>\n",
              "      <td>294</td>\n",
              "    </tr>\n",
              "    <tr>\n",
              "      <th>Lambda</th>\n",
              "      <td>84</td>\n",
              "    </tr>\n",
              "    <tr>\n",
              "      <th>Epsilon</th>\n",
              "      <td>28</td>\n",
              "    </tr>\n",
              "    <tr>\n",
              "      <th>Mu</th>\n",
              "      <td>14</td>\n",
              "    </tr>\n",
              "    <tr>\n",
              "      <th>Other</th>\n",
              "      <td>14</td>\n",
              "    </tr>\n",
              "  </tbody>\n",
              "</table>\n",
              "</div><br><label><b>dtype:</b> int64</label>"
            ]
          },
          "metadata": {},
          "execution_count": 22
        }
      ]
    },
    {
      "cell_type": "markdown",
      "source": [
        "**Consolidate on Time Series for Variant Interpolation**"
      ],
      "metadata": {
        "id": "QhUBvq5ytFpr"
      }
    },
    {
      "cell_type": "code",
      "source": [
        "import pandas as pd\n",
        "import matplotlib.pyplot as plt\n",
        "import numpy as np\n",
        "\n",
        "df_us = local_merged_df[local_merged_df['Country'] == 'United States']\n",
        "df_us = df_us.set_index('date')\n",
        "\n",
        "# take the log of the variant percents. The scale doesn't show the small variants\n",
        "for col in df_us.select_dtypes(include=np.number).columns:\n",
        "    df_us[col] = np.log(df_us[col])\n",
        "\n",
        "# Plotting the time series\n",
        "df_us.plot(title='USA COVID Variants 2020-2023', xlabel='Date', ylabel='Percent of Cases', figsize=(10, 6))\n",
        "plt.legend(loc='upper right')\n",
        "plt.grid(True)\n",
        "plt.show()"
      ],
      "metadata": {
        "id": "vCI0DmFh-SH6",
        "colab": {
          "base_uri": "https://localhost:8080/",
          "height": 615
        },
        "outputId": "0d528901-6d17-4851-93e2-3eadf840ee1d"
      },
      "execution_count": 23,
      "outputs": [
        {
          "output_type": "stream",
          "name": "stderr",
          "text": [
            "/usr/local/lib/python3.11/dist-packages/pandas/core/arraylike.py:399: RuntimeWarning: divide by zero encountered in log\n",
            "  result = getattr(ufunc, method)(*inputs, **kwargs)\n"
          ]
        },
        {
          "output_type": "display_data",
          "data": {
            "text/plain": [
              "<Figure size 1000x600 with 1 Axes>"
            ],
            "image/png": "[encoded data removed]"
          },
          "metadata": {}
        }
      ]
    },
    {
      "cell_type": "code",
      "source": [
        "!pip install -q keras-tcn\n",
        "from tcn import TCN\n",
        "from tensorflow.keras import Input, Model\n",
        "from tensorflow.keras.layers import Dense\n",
        "from tqdm.notebook import tqdm"
      ],
      "metadata": {
        "id": "GFvEsCx1aD2C",
        "colab": {
          "base_uri": "https://localhost:8080/"
        },
        "outputId": "44fdc7d4-3823-4344-bd65-d1a9576eab92"
      },
      "execution_count": 24,
      "outputs": [
        {
          "output_type": "stream",
          "name": "stdout",
          "text": [
            "\u001b[?25l   \u001b[90m━━━━━━━━━━━━━━━━━━━━━━━━━━━━━━━━━━━━━━━━\u001b[0m \u001b[32m0.0/611.8 kB\u001b[0m \u001b[31m?\u001b[0m eta \u001b[36m-:--:--\u001b[0m\r\u001b[2K   \u001b[91m━━━━━━━━━━━━━━━━━━━━━━━━━━━━━━━━━━━━━━━\u001b[0m\u001b[90m╺\u001b[0m \u001b[32m604.2/611.8 kB\u001b[0m \u001b[31m18.9 MB/s\u001b[0m eta \u001b[36m0:00:01\u001b[0m\r\u001b[2K   \u001b[90m━━━━━━━━━━━━━━━━━━━━━━━━━━━━━━━━━━━━━━━━\u001b[0m \u001b[32m611.8/611.8 kB\u001b[0m \u001b[31m13.1 MB/s\u001b[0m eta \u001b[36m0:00:00\u001b[0m\n",
            "\u001b[?25h\u001b[31mERROR: pip's dependency resolver does not currently take into account all the packages that are installed. This behaviour is the source of the following dependency conflicts.\n",
            "inflect 7.5.0 requires typeguard>=4.0.1, but you have typeguard 2.13.3 which is incompatible.\u001b[0m\u001b[31m\n",
            "\u001b[0m"
          ]
        }
      ]
    },
    {
      "cell_type": "markdown",
      "source": [
        "**Do Train/Test Split**"
      ],
      "metadata": {
        "id": "pxk0NjlUxABq"
      }
    },
    {
      "cell_type": "code",
      "source": [
        "X = local_merged_df.drop(['HighestVariant'],axis=1)     # remove our target variable\n",
        "y = local_merged_df['HighestVariant']                   # make a y axis from it\n",
        "X_train, X_test_raw, y_train, y_test_raw = train_test_split(X, y, test_size=0.2, random_state=42)\n",
        "\n",
        "print(f\"Shape of X_train: {X_train.shape}\")\n",
        "print(f\"Shape of y_train: {y_train.shape}\")\n",
        "print(f\"Shape of X_test: {X_test_raw.shape}\")\n",
        "print(f\"Shape of y_test: {y_test_raw.shape}\")"
      ],
      "metadata": {
        "id": "05zCtkZvlFVW",
        "colab": {
          "base_uri": "https://localhost:8080/"
        },
        "outputId": "459eb665-7997-4548-fb63-7eb5d3a97524"
      },
      "execution_count": 25,
      "outputs": [
        {
          "output_type": "stream",
          "name": "stdout",
          "text": [
            "Shape of X_train: (181772, 24)\n",
            "Shape of y_train: (181772,)\n",
            "Shape of X_test: (45443, 24)\n",
            "Shape of y_test: (45443,)\n"
          ]
        }
      ]
    },
    {
      "cell_type": "markdown",
      "source": [
        "**Get Inverse Class Weights for Weighting Models that Accept it**"
      ],
      "metadata": {
        "id": "JXHnshc_h8xC"
      }
    },
    {
      "cell_type": "code",
      "source": [
        "# Get class counts\n",
        "class_counts = y_train.value_counts()\n",
        "y_len = len(y_train)\n",
        "\n",
        "# Compute class weights (relative representation)\n",
        "class_weights = class_counts / y_len\n",
        "\n",
        "# Convert to DataFrame for better visualization\n",
        "df_weights = class_weights.reset_index()\n",
        "df_weights.columns = ['Class', 'Weight']\n",
        "\n",
        "# Display result\n",
        "print(df_weights)\n",
        "\n",
        "# Get class counts\n",
        "class_counts = y_train.value_counts()\n",
        "total_samples = len(y_train)\n",
        "\n",
        "# Compute weights (inverse of frequency)\n",
        "weights = total_samples / (len(class_counts) * class_counts)\n",
        "\n",
        "# Convert to dictionary format for model usage\n",
        "class_weight_dict = weights.to_dict()\n",
        "\n",
        "print(\"The following class weights are what we'd use to normalize the weights\")\n",
        "print(\"Class Weights:\", class_weight_dict)"
      ],
      "metadata": {
        "id": "R6cuFhjT2a10",
        "colab": {
          "base_uri": "https://localhost:8080/"
        },
        "outputId": "6f517dd7-f16c-46db-a238-5ef8354da296"
      },
      "execution_count": 26,
      "outputs": [
        {
          "output_type": "stream",
          "name": "stdout",
          "text": [
            "      Class    Weight\n",
            "0   Unknown  0.607987\n",
            "1      Beta  0.340614\n",
            "2     Alpha  0.026099\n",
            "3     Delta  0.015668\n",
            "4     Kappa  0.006200\n",
            "5        Pi  0.001557\n",
            "6        Nu  0.001243\n",
            "7    Lambda  0.000369\n",
            "8   Epsilon  0.000132\n",
            "9     Other  0.000066\n",
            "10       Mu  0.000066\n",
            "The following class weights are what we'd use to normalize the weights\n",
            "Class Weights: {'Unknown': 0.14952474571530808, 'Beta': 0.26689807269320787, 'Alpha': 3.4832898972865247, 'Delta': 5.8022216547497445, 'Kappa': 14.662579656368477, 'Pi': 58.39126244779955, 'Nu': 73.11826226870474, 'Lambda': 246.63772048846675, 'Epsilon': 688.530303030303, 'Other': 1377.060606060606, 'Mu': 1377.060606060606}\n"
          ]
        }
      ]
    },
    {
      "cell_type": "markdown",
      "source": [
        "**Perform Encoding and Scaling**\n",
        "\n",
        "Here we make all strings become numeric and scale the numerical data."
      ],
      "metadata": {
        "id": "s3jnbP0k1657"
      }
    },
    {
      "cell_type": "code",
      "execution_count": 27,
      "metadata": {
        "id": "YJNJqv1Ul1zF",
        "colab": {
          "base_uri": "https://localhost:8080/"
        },
        "outputId": "c07dc899-4bd9-4ecc-e7de-be71345a078e"
      },
      "outputs": [
        {
          "output_type": "stream",
          "name": "stdout",
          "text": [
            "Label encoding completed.\n",
            "Numerical columns cleaned and renamed.\n",
            "Data normalization completed.\n"
          ]
        }
      ],
      "source": [
        "# we'll now use the preprocessor on the training data\n",
        "\n",
        "X_train, y_train = do_preproc(X_train, y_train, transform_only = False) # we want to fit_transform\n",
        "\n",
        "# Time to drop our date. We need to have everything numeric and scaled\n",
        "X_train.drop(columns='date', inplace=True)\n"
      ]
    },
    {
      "cell_type": "code",
      "execution_count": 28,
      "metadata": {
        "id": "h8K-21XJFYFa",
        "colab": {
          "base_uri": "https://localhost:8080/",
          "height": 81
        },
        "outputId": "b5f364c1-30c3-4abb-d871-b2b987ee5d9c"
      },
      "outputs": [
        {
          "output_type": "execute_result",
          "data": {
            "text/plain": [
              "        Country  UrbanPop  HospBedDensity   Obesity  Other  Alpha  Iota  \\\n",
              "188231      193  1.534433        0.012024 -0.979045    0.0    0.0   0.0   \n",
              "\n",
              "        Sigma   Nu  Beta  Rho  Gamma  Upsilon  Chi  Kappa  Lambda  Eta   Mu  \\\n",
              "188231    0.0  0.0   0.0  0.0    0.0      0.0  0.0    0.0     0.0  0.0  0.0   \n",
              "\n",
              "         Pi  Epsilon  Zeta  Delta  Theta  scaled_date  \n",
              "188231  0.0      0.0   0.0    0.0    0.0     0.879252  "
            ],
            "text/html": [
              "\n",
              "  <div id=\"df-fcafb6f5-15b8-40e0-b2b1-55fe16224796\" class=\"colab-df-container\">\n",
              "    <div>\n",
              "<style scoped>\n",
              "    .dataframe tbody tr th:only-of-type {\n",
              "        vertical-align: middle;\n",
              "    }\n",
              "\n",
              "    .dataframe tbody tr th {\n",
              "        vertical-align: top;\n",
              "    }\n",
              "\n",
              "    .dataframe thead th {\n",
              "        text-align: right;\n",
              "    }\n",
              "</style>\n",
              "<table border=\"1\" class=\"dataframe\">\n",
              "  <thead>\n",
              "    <tr style=\"text-align: right;\">\n",
              "      <th></th>\n",
              "      <th>Country</th>\n",
              "      <th>UrbanPop</th>\n",
              "      <th>HospBedDensity</th>\n",
              "      <th>Obesity</th>\n",
              "      <th>Other</th>\n",
              "      <th>Alpha</th>\n",
              "      <th>Iota</th>\n",
              "      <th>Sigma</th>\n",
              "      <th>Nu</th>\n",
              "      <th>Beta</th>\n",
              "      <th>Rho</th>\n",
              "      <th>Gamma</th>\n",
              "      <th>Upsilon</th>\n",
              "      <th>Chi</th>\n",
              "      <th>Kappa</th>\n",
              "      <th>Lambda</th>\n",
              "      <th>Eta</th>\n",
              "      <th>Mu</th>\n",
              "      <th>Pi</th>\n",
              "      <th>Epsilon</th>\n",
              "      <th>Zeta</th>\n",
              "      <th>Delta</th>\n",
              "      <th>Theta</th>\n",
              "      <th>scaled_date</th>\n",
              "    </tr>\n",
              "  </thead>\n",
              "  <tbody>\n",
              "    <tr>\n",
              "      <th>188231</th>\n",
              "      <td>193</td>\n",
              "      <td>1.534433</td>\n",
              "      <td>0.012024</td>\n",
              "      <td>-0.979045</td>\n",
              "      <td>0.0</td>\n",
              "      <td>0.0</td>\n",
              "      <td>0.0</td>\n",
              "      <td>0.0</td>\n",
              "      <td>0.0</td>\n",
              "      <td>0.0</td>\n",
              "      <td>0.0</td>\n",
              "      <td>0.0</td>\n",
              "      <td>0.0</td>\n",
              "      <td>0.0</td>\n",
              "      <td>0.0</td>\n",
              "      <td>0.0</td>\n",
              "      <td>0.0</td>\n",
              "      <td>0.0</td>\n",
              "      <td>0.0</td>\n",
              "      <td>0.0</td>\n",
              "      <td>0.0</td>\n",
              "      <td>0.0</td>\n",
              "      <td>0.0</td>\n",
              "      <td>0.879252</td>\n",
              "    </tr>\n",
              "  </tbody>\n",
              "</table>\n",
              "</div>\n",
              "    <div class=\"colab-df-buttons\">\n",
              "\n",
              "  <div class=\"colab-df-container\">\n",
              "    <button class=\"colab-df-convert\" onclick=\"convertToInteractive('df-fcafb6f5-15b8-40e0-b2b1-55fe16224796')\"\n",
              "            title=\"Convert this dataframe to an interactive table.\"\n",
              "            style=\"display:none;\">\n",
              "\n",
              "  <svg xmlns=\"http://www.w3.org/2000/svg\" height=\"24px\" viewBox=\"0 -960 960 960\">\n",
              "    <path d=\"M120-120v-720h720v720H120Zm60-500h600v-160H180v160Zm220 220h160v-160H400v160Zm0 220h160v-160H400v160ZM180-400h160v-160H180v160Zm440 0h160v-160H620v160ZM180-180h160v-160H180v160Zm440 0h160v-160H620v160Z\"/>\n",
              "  </svg>\n",
              "    </button>\n",
              "\n",
              "  <style>\n",
              "    .colab-df-container {\n",
              "      display:flex;\n",
              "      gap: 12px;\n",
              "    }\n",
              "\n",
              "    .colab-df-convert {\n",
              "      background-color: #E8F0FE;\n",
              "      border: none;\n",
              "      border-radius: 50%;\n",
              "      cursor: pointer;\n",
              "      display: none;\n",
              "      fill: #1967D2;\n",
              "      height: 32px;\n",
              "      padding: 0 0 0 0;\n",
              "      width: 32px;\n",
              "    }\n",
              "\n",
              "    .colab-df-convert:hover {\n",
              "      background-color: #E2EBFA;\n",
              "      box-shadow: 0px 1px 2px rgba(60, 64, 67, 0.3), 0px 1px 3px 1px rgba(60, 64, 67, 0.15);\n",
              "      fill: #174EA6;\n",
              "    }\n",
              "\n",
              "    .colab-df-buttons div {\n",
              "      margin-bottom: 4px;\n",
              "    }\n",
              "\n",
              "    [theme=dark] .colab-df-convert {\n",
              "      background-color: #3B4455;\n",
              "      fill: #D2E3FC;\n",
              "    }\n",
              "\n",
              "    [theme=dark] .colab-df-convert:hover {\n",
              "      background-color: #434B5C;\n",
              "      box-shadow: 0px 1px 3px 1px rgba(0, 0, 0, 0.15);\n",
              "      filter: drop-shadow(0px 1px 2px rgba(0, 0, 0, 0.3));\n",
              "      fill: #FFFFFF;\n",
              "    }\n",
              "  </style>\n",
              "\n",
              "    <script>\n",
              "      const buttonEl =\n",
              "        document.querySelector('#df-fcafb6f5-15b8-40e0-b2b1-55fe16224796 button.colab-df-convert');\n",
              "      buttonEl.style.display =\n",
              "        google.colab.kernel.accessAllowed ? 'block' : 'none';\n",
              "\n",
              "      async function convertToInteractive(key) {\n",
              "        const element = document.querySelector('#df-fcafb6f5-15b8-40e0-b2b1-55fe16224796');\n",
              "        const dataTable =\n",
              "          await google.colab.kernel.invokeFunction('convertToInteractive',\n",
              "                                                    [key], {});\n",
              "        if (!dataTable) return;\n",
              "\n",
              "        const docLinkHtml = 'Like what you see? Visit the ' +\n",
              "          '<a target=\"_blank\" href=https://colab.research.google.com/notebooks/data_table.ipynb>data table notebook</a>'\n",
              "          + ' to learn more about interactive tables.';\n",
              "        element.innerHTML = '';\n",
              "        dataTable['output_type'] = 'display_data';\n",
              "        await google.colab.output.renderOutput(dataTable, element);\n",
              "        const docLink = document.createElement('div');\n",
              "        docLink.innerHTML = docLinkHtml;\n",
              "        element.appendChild(docLink);\n",
              "      }\n",
              "    </script>\n",
              "  </div>\n",
              "\n",
              "\n",
              "    </div>\n",
              "  </div>\n"
            ],
            "application/vnd.google.colaboratory.intrinsic+json": {
              "type": "dataframe",
              "variable_name": "X_train"
            }
          },
          "metadata": {},
          "execution_count": 28
        }
      ],
      "source": [
        "# Show the post-encoded/scaled data\n",
        "X_train.head(1)"
      ]
    },
    {
      "cell_type": "code",
      "source": [
        "unique_rows, counts = np.unique(y_train, axis=0, return_counts=True)\n",
        "y_len = len(y_train)\n",
        "# Display results\n",
        "print(\"Unique Rows:\\n\", unique_rows)\n",
        "print(\"Counts:\", counts)\n",
        "print(len(y_train))\n"
      ],
      "metadata": {
        "id": "N50uLZjY19HU",
        "colab": {
          "base_uri": "https://localhost:8080/"
        },
        "outputId": "2cc9c060-2621-4b9b-8858-fc182238a052"
      },
      "execution_count": 29,
      "outputs": [
        {
          "output_type": "stream",
          "name": "stdout",
          "text": [
            "Unique Rows:\n",
            " [[0. 0. 0. 0. 0. 0. 0. 0. 0. 0. 1.]\n",
            " [0. 0. 0. 0. 0. 0. 0. 0. 0. 1. 0.]\n",
            " [0. 0. 0. 0. 0. 0. 0. 0. 1. 0. 0.]\n",
            " [0. 0. 0. 0. 0. 0. 0. 1. 0. 0. 0.]\n",
            " [0. 0. 0. 0. 0. 0. 1. 0. 0. 0. 0.]\n",
            " [0. 0. 0. 0. 0. 1. 0. 0. 0. 0. 0.]\n",
            " [0. 0. 0. 0. 1. 0. 0. 0. 0. 0. 0.]\n",
            " [0. 0. 0. 1. 0. 0. 0. 0. 0. 0. 0.]\n",
            " [0. 0. 1. 0. 0. 0. 0. 0. 0. 0. 0.]\n",
            " [0. 1. 0. 0. 0. 0. 0. 0. 0. 0. 0.]\n",
            " [1. 0. 0. 0. 0. 0. 0. 0. 0. 0. 0.]]\n",
            "Counts: [110515    283     12    226     12     67   1127     24   2848  61914\n",
            "   4744]\n",
            "181772\n"
          ]
        }
      ]
    },
    {
      "cell_type": "markdown",
      "metadata": {
        "id": "XBBYrBtvyy_J"
      },
      "source": [
        "**Preprocess Data and Save File**"
      ]
    },
    {
      "cell_type": "code",
      "execution_count": 30,
      "metadata": {
        "id": "xX0Ne44_ytbG",
        "colab": {
          "base_uri": "https://localhost:8080/"
        },
        "outputId": "0f0e93a9-33ee-414e-dfdc-c24c7ec9148f"
      },
      "outputs": [
        {
          "output_type": "stream",
          "name": "stdout",
          "text": [
            "Preprocessed data saved successfully.\n"
          ]
        }
      ],
      "source": [
        "# Save Preprocessed Data\n",
        "\n",
        "# Save the preprocessed data to a CSV file\n",
        "X_train.to_csv('/content/drive/MyDrive/project1_data/preprocessed_data.csv', index=False)\n",
        "print(\"Preprocessed data saved successfully.\")"
      ]
    },
    {
      "cell_type": "markdown",
      "source": [
        "\n",
        "\n",
        "---\n",
        "End Preprocessing\n",
        "\n",
        "---\n",
        "\n"
      ],
      "metadata": {
        "id": "zq7jYA38xFhA"
      }
    },
    {
      "cell_type": "markdown",
      "metadata": {
        "id": "avpulMDsMgKH"
      },
      "source": [
        "## Model Building\n",
        "The data are ready to input into a model"
      ]
    },
    {
      "cell_type": "markdown",
      "source": [
        "**First Define Model Selection, Visualizing, and Measuring Methods**"
      ],
      "metadata": {
        "id": "vRod0lc8rxFU"
      }
    },
    {
      "cell_type": "code",
      "source": [
        "\n",
        "# -------------------------------------------- model evaluation ----------------------\n",
        "# this method will output model metrics and a confusion matrix\n",
        "def eval_model(X_in, y_in):\n",
        "  # Evaluate the model\n",
        "  model_score = model.evaluate(X_in, y_in, verbose=0)\n",
        "  predict_x = model.predict(X_in)\n",
        "  y_pred = np.argmax(predict_x, axis=1)\n",
        "  y_true = np.argmax(y_in, axis=1)  # Convert one-hot to class labels\n",
        "  precision = precision_score(y_true, y_pred, average='macro')\n",
        "  recall = recall_score(y_true, y_pred, average='macro')\n",
        "  cm = confusion_matrix(y_true, y_pred)\n",
        "\n",
        "  print(f\"Model evaluation - Loss: {model_score[0]}, Accuracy: {model_score[1]}\")\n",
        "\n",
        "  print( 'precision = ' + str(precision) + '\\nrecall = ' + str(recall))\n",
        "  print('Confusion matrix on training data:\\n- x-axis is true labels.\\n- y-axis is predicted labels')\n",
        "  print(pd.DataFrame(cm).head(13))\n",
        "  print(\" \")\n",
        "  print(classification_report(y_true, y_pred))\n",
        "\n",
        "\n",
        "# -----------------------------------------------------------------------------------\n",
        "# a method to plot the true vs predicted for each epoch in model.fit\n",
        "#   To use make sure you use      history = model.fit(......)\n",
        "def plot_model_history(axis, history, autoshow=True):\n",
        "  pd.DataFrame(history.history).plot(ax=axis, title='True vs. Predicted')\n",
        "  # If we're going to put plots side-by-side don't show them here\n",
        "  if autoshow:\n",
        "    plt.show()\n",
        "\n",
        "# ------------------------------------------------------------------\n",
        "# A method to create a predicted vs actuals heatmap\n",
        "def plot_predicted_vs_actual_map(axis, y_pred, y_actual, autoshow=True):\n",
        "  # Scatter plot of predictions vs actuals\n",
        "  axis.scatter(y_actual.argmax(axis=1), y_pred.argmax(axis=1), alpha=0.5)\n",
        "  axis.set_title('Predictions vs Actuals')\n",
        "  axis.set_xlabel('Actual Values')\n",
        "  axis.set_ylabel('Predicted Values')\n",
        "  if autoshow:  # only show if we need to\n",
        "    plt.show()\n",
        "\n",
        "def plot_trn_vs_val(axis, history, autoshow=True):\n",
        "  # Plot training & validation accuracy values\n",
        "  axis.plot(history.history['accuracy'], label='Train Accuracy')\n",
        "  axis.plot(history.history['val_accuracy'], label='Validation Accuracy')\n",
        "  axis.set_title('Model Accuracy')\n",
        "  axis.set_ylabel('Accuracy')\n",
        "  axis.set_xlabel('Epoch')\n",
        "  if autoshow:\n",
        "    plt.show\n",
        "\n",
        "# This will call all the other plot methods so we can standardize\n",
        "def plot_viz_wide(width, history, y_pred, y_actual):\n",
        "  fig, axes = plt.subplots(1, width, figsize=(7,3))\n",
        "\n",
        "  # plot training vs validation\n",
        "  plot_trn_vs_val(axes[0], history, False)\n",
        "\n",
        "  # Plot training & validation loss values\n",
        "  plot_model_history(axes[1], history, False)\n",
        "\n",
        "  # Plot the predicted vs actual\n",
        "  plot_predicted_vs_actual_map(axes[2], y_pred, y_actual, False)\n",
        "\n",
        "  plt.tight_layout()\n"
      ],
      "metadata": {
        "id": "vdAJy2SOr45V"
      },
      "execution_count": 31,
      "outputs": []
    },
    {
      "cell_type": "markdown",
      "metadata": {
        "id": "Wf3akaLf9KrV"
      },
      "source": [
        "###Feedforward Neural Network"
      ]
    },
    {
      "cell_type": "markdown",
      "metadata": {
        "id": "-uLdgsio9BT9"
      },
      "source": [
        "**Import Libraries**"
      ]
    },
    {
      "cell_type": "code",
      "execution_count": 32,
      "metadata": {
        "id": "BNB9uvIK9IBi"
      },
      "outputs": [],
      "source": [
        "import tensorflow as tf\n",
        "from tensorflow.keras.models import Sequential\n",
        "from keras.layers import Dense, Dropout, Input, BatchNormalization, LeakyReLU\n",
        "from keras.callbacks import EarlyStopping\n",
        "from tensorflow.keras.optimizers import Adam\n",
        "from tensorflow.keras.regularizers import l2\n",
        "import matplotlib.pyplot as plt\n",
        "%matplotlib inline"
      ]
    },
    {
      "cell_type": "markdown",
      "source": [
        "**Configure Early Stopping**"
      ],
      "metadata": {
        "id": "4klhIAXzgWYZ"
      }
    },
    {
      "cell_type": "code",
      "source": [
        "\n",
        "early_stopping = EarlyStopping(\n",
        "    monitor='val_loss',  # monitor loss\n",
        "    patience=8,         # no improvement in N epochs, stop\n",
        "    restore_best_weights=True,  # restore the best weights\n",
        "    mode='max'           # 'min' for loss, 'max' for accuracy\n",
        ")"
      ],
      "metadata": {
        "id": "EgQ7carTgZAj"
      },
      "execution_count": 33,
      "outputs": []
    },
    {
      "cell_type": "markdown",
      "metadata": {
        "id": "3D9tY6GX-NxW"
      },
      "source": [
        "**Build the Model**"
      ]
    },
    {
      "cell_type": "code",
      "execution_count": 34,
      "metadata": {
        "colab": {
          "base_uri": "https://localhost:8080/",
          "height": 823
        },
        "id": "acNjKApY-UaY",
        "outputId": "f9ce4464-da81-4cf0-b34c-db2d0a4f8858"
      },
      "outputs": [
        {
          "output_type": "stream",
          "name": "stderr",
          "text": [
            "/usr/local/lib/python3.11/dist-packages/keras/src/layers/activations/leaky_relu.py:41: UserWarning: Argument `alpha` is deprecated. Use `negative_slope` instead.\n",
            "  warnings.warn(\n"
          ]
        },
        {
          "output_type": "display_data",
          "data": {
            "text/plain": [
              "\u001b[1mModel: \"sequential\"\u001b[0m\n"
            ],
            "text/html": [
              "<pre style=\"white-space:pre;overflow-x:auto;line-height:normal;font-family:Menlo,'DejaVu Sans Mono',consolas,'Courier New',monospace\"><span style=\"font-weight: bold\">Model: \"sequential\"</span>\n",
              "</pre>\n"
            ]
          },
          "metadata": {}
        },
        {
          "output_type": "display_data",
          "data": {
            "text/plain": [
              "┏━━━━━━━━━━━━━━━━━━━━━━━━━━━━━━━━━━━━━━┳━━━━━━━━━━━━━━━━━━━━━━━━━━━━━┳━━━━━━━━━━━━━━━━━┓\n",
              "┃\u001b[1m \u001b[0m\u001b[1mLayer (type)                        \u001b[0m\u001b[1m \u001b[0m┃\u001b[1m \u001b[0m\u001b[1mOutput Shape               \u001b[0m\u001b[1m \u001b[0m┃\u001b[1m \u001b[0m\u001b[1m        Param #\u001b[0m\u001b[1m \u001b[0m┃\n",
              "┡━━━━━━━━━━━━━━━━━━━━━━━━━━━━━━━━━━━━━━╇━━━━━━━━━━━━━━━━━━━━━━━━━━━━━╇━━━━━━━━━━━━━━━━━┩\n",
              "│ dense (\u001b[38;5;33mDense\u001b[0m)                        │ (\u001b[38;5;45mNone\u001b[0m, \u001b[38;5;34m128\u001b[0m)                 │           \u001b[38;5;34m3,200\u001b[0m │\n",
              "├──────────────────────────────────────┼─────────────────────────────┼─────────────────┤\n",
              "│ batch_normalization                  │ (\u001b[38;5;45mNone\u001b[0m, \u001b[38;5;34m128\u001b[0m)                 │             \u001b[38;5;34m512\u001b[0m │\n",
              "│ (\u001b[38;5;33mBatchNormalization\u001b[0m)                 │                             │                 │\n",
              "├──────────────────────────────────────┼─────────────────────────────┼─────────────────┤\n",
              "│ leaky_re_lu (\u001b[38;5;33mLeakyReLU\u001b[0m)              │ (\u001b[38;5;45mNone\u001b[0m, \u001b[38;5;34m128\u001b[0m)                 │               \u001b[38;5;34m0\u001b[0m │\n",
              "├──────────────────────────────────────┼─────────────────────────────┼─────────────────┤\n",
              "│ dropout (\u001b[38;5;33mDropout\u001b[0m)                    │ (\u001b[38;5;45mNone\u001b[0m, \u001b[38;5;34m128\u001b[0m)                 │               \u001b[38;5;34m0\u001b[0m │\n",
              "├──────────────────────────────────────┼─────────────────────────────┼─────────────────┤\n",
              "│ dense_1 (\u001b[38;5;33mDense\u001b[0m)                      │ (\u001b[38;5;45mNone\u001b[0m, \u001b[38;5;34m128\u001b[0m)                 │          \u001b[38;5;34m16,512\u001b[0m │\n",
              "├──────────────────────────────────────┼─────────────────────────────┼─────────────────┤\n",
              "│ batch_normalization_1                │ (\u001b[38;5;45mNone\u001b[0m, \u001b[38;5;34m128\u001b[0m)                 │             \u001b[38;5;34m512\u001b[0m │\n",
              "│ (\u001b[38;5;33mBatchNormalization\u001b[0m)                 │                             │                 │\n",
              "├──────────────────────────────────────┼─────────────────────────────┼─────────────────┤\n",
              "│ leaky_re_lu_1 (\u001b[38;5;33mLeakyReLU\u001b[0m)            │ (\u001b[38;5;45mNone\u001b[0m, \u001b[38;5;34m128\u001b[0m)                 │               \u001b[38;5;34m0\u001b[0m │\n",
              "├──────────────────────────────────────┼─────────────────────────────┼─────────────────┤\n",
              "│ dropout_1 (\u001b[38;5;33mDropout\u001b[0m)                  │ (\u001b[38;5;45mNone\u001b[0m, \u001b[38;5;34m128\u001b[0m)                 │               \u001b[38;5;34m0\u001b[0m │\n",
              "├──────────────────────────────────────┼─────────────────────────────┼─────────────────┤\n",
              "│ dense_2 (\u001b[38;5;33mDense\u001b[0m)                      │ (\u001b[38;5;45mNone\u001b[0m, \u001b[38;5;34m64\u001b[0m)                  │           \u001b[38;5;34m8,256\u001b[0m │\n",
              "├──────────────────────────────────────┼─────────────────────────────┼─────────────────┤\n",
              "│ dense_3 (\u001b[38;5;33mDense\u001b[0m)                      │ (\u001b[38;5;45mNone\u001b[0m, \u001b[38;5;34m11\u001b[0m)                  │             \u001b[38;5;34m715\u001b[0m │\n",
              "└──────────────────────────────────────┴─────────────────────────────┴─────────────────┘\n"
            ],
            "text/html": [
              "<pre style=\"white-space:pre;overflow-x:auto;line-height:normal;font-family:Menlo,'DejaVu Sans Mono',consolas,'Courier New',monospace\">┏━━━━━━━━━━━━━━━━━━━━━━━━━━━━━━━━━━━━━━┳━━━━━━━━━━━━━━━━━━━━━━━━━━━━━┳━━━━━━━━━━━━━━━━━┓\n",
              "┃<span style=\"font-weight: bold\"> Layer (type)                         </span>┃<span style=\"font-weight: bold\"> Output Shape                </span>┃<span style=\"font-weight: bold\">         Param # </span>┃\n",
              "┡━━━━━━━━━━━━━━━━━━━━━━━━━━━━━━━━━━━━━━╇━━━━━━━━━━━━━━━━━━━━━━━━━━━━━╇━━━━━━━━━━━━━━━━━┩\n",
              "│ dense (<span style=\"color: #0087ff; text-decoration-color: #0087ff\">Dense</span>)                        │ (<span style=\"color: #00d7ff; text-decoration-color: #00d7ff\">None</span>, <span style=\"color: #00af00; text-decoration-color: #00af00\">128</span>)                 │           <span style=\"color: #00af00; text-decoration-color: #00af00\">3,200</span> │\n",
              "├──────────────────────────────────────┼─────────────────────────────┼─────────────────┤\n",
              "│ batch_normalization                  │ (<span style=\"color: #00d7ff; text-decoration-color: #00d7ff\">None</span>, <span style=\"color: #00af00; text-decoration-color: #00af00\">128</span>)                 │             <span style=\"color: #00af00; text-decoration-color: #00af00\">512</span> │\n",
              "│ (<span style=\"color: #0087ff; text-decoration-color: #0087ff\">BatchNormalization</span>)                 │                             │                 │\n",
              "├──────────────────────────────────────┼─────────────────────────────┼─────────────────┤\n",
              "│ leaky_re_lu (<span style=\"color: #0087ff; text-decoration-color: #0087ff\">LeakyReLU</span>)              │ (<span style=\"color: #00d7ff; text-decoration-color: #00d7ff\">None</span>, <span style=\"color: #00af00; text-decoration-color: #00af00\">128</span>)                 │               <span style=\"color: #00af00; text-decoration-color: #00af00\">0</span> │\n",
              "├──────────────────────────────────────┼─────────────────────────────┼─────────────────┤\n",
              "│ dropout (<span style=\"color: #0087ff; text-decoration-color: #0087ff\">Dropout</span>)                    │ (<span style=\"color: #00d7ff; text-decoration-color: #00d7ff\">None</span>, <span style=\"color: #00af00; text-decoration-color: #00af00\">128</span>)                 │               <span style=\"color: #00af00; text-decoration-color: #00af00\">0</span> │\n",
              "├──────────────────────────────────────┼─────────────────────────────┼─────────────────┤\n",
              "│ dense_1 (<span style=\"color: #0087ff; text-decoration-color: #0087ff\">Dense</span>)                      │ (<span style=\"color: #00d7ff; text-decoration-color: #00d7ff\">None</span>, <span style=\"color: #00af00; text-decoration-color: #00af00\">128</span>)                 │          <span style=\"color: #00af00; text-decoration-color: #00af00\">16,512</span> │\n",
              "├──────────────────────────────────────┼─────────────────────────────┼─────────────────┤\n",
              "│ batch_normalization_1                │ (<span style=\"color: #00d7ff; text-decoration-color: #00d7ff\">None</span>, <span style=\"color: #00af00; text-decoration-color: #00af00\">128</span>)                 │             <span style=\"color: #00af00; text-decoration-color: #00af00\">512</span> │\n",
              "│ (<span style=\"color: #0087ff; text-decoration-color: #0087ff\">BatchNormalization</span>)                 │                             │                 │\n",
              "├──────────────────────────────────────┼─────────────────────────────┼─────────────────┤\n",
              "│ leaky_re_lu_1 (<span style=\"color: #0087ff; text-decoration-color: #0087ff\">LeakyReLU</span>)            │ (<span style=\"color: #00d7ff; text-decoration-color: #00d7ff\">None</span>, <span style=\"color: #00af00; text-decoration-color: #00af00\">128</span>)                 │               <span style=\"color: #00af00; text-decoration-color: #00af00\">0</span> │\n",
              "├──────────────────────────────────────┼─────────────────────────────┼─────────────────┤\n",
              "│ dropout_1 (<span style=\"color: #0087ff; text-decoration-color: #0087ff\">Dropout</span>)                  │ (<span style=\"color: #00d7ff; text-decoration-color: #00d7ff\">None</span>, <span style=\"color: #00af00; text-decoration-color: #00af00\">128</span>)                 │               <span style=\"color: #00af00; text-decoration-color: #00af00\">0</span> │\n",
              "├──────────────────────────────────────┼─────────────────────────────┼─────────────────┤\n",
              "│ dense_2 (<span style=\"color: #0087ff; text-decoration-color: #0087ff\">Dense</span>)                      │ (<span style=\"color: #00d7ff; text-decoration-color: #00d7ff\">None</span>, <span style=\"color: #00af00; text-decoration-color: #00af00\">64</span>)                  │           <span style=\"color: #00af00; text-decoration-color: #00af00\">8,256</span> │\n",
              "├──────────────────────────────────────┼─────────────────────────────┼─────────────────┤\n",
              "│ dense_3 (<span style=\"color: #0087ff; text-decoration-color: #0087ff\">Dense</span>)                      │ (<span style=\"color: #00d7ff; text-decoration-color: #00d7ff\">None</span>, <span style=\"color: #00af00; text-decoration-color: #00af00\">11</span>)                  │             <span style=\"color: #00af00; text-decoration-color: #00af00\">715</span> │\n",
              "└──────────────────────────────────────┴─────────────────────────────┴─────────────────┘\n",
              "</pre>\n"
            ]
          },
          "metadata": {}
        },
        {
          "output_type": "display_data",
          "data": {
            "text/plain": [
              "\u001b[1m Total params: \u001b[0m\u001b[38;5;34m29,707\u001b[0m (116.04 KB)\n"
            ],
            "text/html": [
              "<pre style=\"white-space:pre;overflow-x:auto;line-height:normal;font-family:Menlo,'DejaVu Sans Mono',consolas,'Courier New',monospace\"><span style=\"font-weight: bold\"> Total params: </span><span style=\"color: #00af00; text-decoration-color: #00af00\">29,707</span> (116.04 KB)\n",
              "</pre>\n"
            ]
          },
          "metadata": {}
        },
        {
          "output_type": "display_data",
          "data": {
            "text/plain": [
              "\u001b[1m Trainable params: \u001b[0m\u001b[38;5;34m29,195\u001b[0m (114.04 KB)\n"
            ],
            "text/html": [
              "<pre style=\"white-space:pre;overflow-x:auto;line-height:normal;font-family:Menlo,'DejaVu Sans Mono',consolas,'Courier New',monospace\"><span style=\"font-weight: bold\"> Trainable params: </span><span style=\"color: #00af00; text-decoration-color: #00af00\">29,195</span> (114.04 KB)\n",
              "</pre>\n"
            ]
          },
          "metadata": {}
        },
        {
          "output_type": "display_data",
          "data": {
            "text/plain": [
              "\u001b[1m Non-trainable params: \u001b[0m\u001b[38;5;34m512\u001b[0m (2.00 KB)\n"
            ],
            "text/html": [
              "<pre style=\"white-space:pre;overflow-x:auto;line-height:normal;font-family:Menlo,'DejaVu Sans Mono',consolas,'Courier New',monospace\"><span style=\"font-weight: bold\"> Non-trainable params: </span><span style=\"color: #00af00; text-decoration-color: #00af00\">512</span> (2.00 KB)\n",
              "</pre>\n"
            ]
          },
          "metadata": {}
        },
        {
          "output_type": "stream",
          "name": "stdout",
          "text": [
            "Epoch 1/200\n",
            "\u001b[1m1137/1137\u001b[0m \u001b[32m━━━━━━━━━━━━━━━━━━━━\u001b[0m\u001b[37m\u001b[0m \u001b[1m8s\u001b[0m 4ms/step - accuracy: 0.8939 - loss: 0.6323 - val_accuracy: 0.6288 - val_loss: 7.6056\n",
            "Epoch 2/200\n",
            "\u001b[1m1137/1137\u001b[0m \u001b[32m━━━━━━━━━━━━━━━━━━━━\u001b[0m\u001b[37m\u001b[0m \u001b[1m4s\u001b[0m 4ms/step - accuracy: 0.9452 - loss: 0.2076 - val_accuracy: 0.3803 - val_loss: 4.0815\n",
            "Epoch 3/200\n",
            "\u001b[1m1137/1137\u001b[0m \u001b[32m━━━━━━━━━━━━━━━━━━━━\u001b[0m\u001b[37m\u001b[0m \u001b[1m4s\u001b[0m 3ms/step - accuracy: 0.9542 - loss: 0.1602 - val_accuracy: 0.9324 - val_loss: 0.4181\n",
            "Epoch 4/200\n",
            "\u001b[1m1137/1137\u001b[0m \u001b[32m━━━━━━━━━━━━━━━━━━━━\u001b[0m\u001b[37m\u001b[0m \u001b[1m6s\u001b[0m 4ms/step - accuracy: 0.9533 - loss: 0.1520 - val_accuracy: 0.9055 - val_loss: 0.9418\n",
            "Epoch 5/200\n",
            "\u001b[1m1137/1137\u001b[0m \u001b[32m━━━━━━━━━━━━━━━━━━━━\u001b[0m\u001b[37m\u001b[0m \u001b[1m3s\u001b[0m 3ms/step - accuracy: 0.9374 - loss: 0.1928 - val_accuracy: 0.9506 - val_loss: 0.2428\n",
            "Epoch 6/200\n",
            "\u001b[1m1137/1137\u001b[0m \u001b[32m━━━━━━━━━━━━━━━━━━━━\u001b[0m\u001b[37m\u001b[0m \u001b[1m3s\u001b[0m 3ms/step - accuracy: 0.9523 - loss: 0.1530 - val_accuracy: 0.3786 - val_loss: 2.0798\n",
            "Epoch 7/200\n",
            "\u001b[1m1137/1137\u001b[0m \u001b[32m━━━━━━━━━━━━━━━━━━━━\u001b[0m\u001b[37m\u001b[0m \u001b[1m6s\u001b[0m 4ms/step - accuracy: 0.9568 - loss: 0.1536 - val_accuracy: 0.9532 - val_loss: 0.2394\n",
            "Epoch 8/200\n",
            "\u001b[1m1137/1137\u001b[0m \u001b[32m━━━━━━━━━━━━━━━━━━━━\u001b[0m\u001b[37m\u001b[0m \u001b[1m4s\u001b[0m 3ms/step - accuracy: 0.9588 - loss: 0.1487 - val_accuracy: 0.2899 - val_loss: 1.7193\n",
            "Epoch 9/200\n",
            "\u001b[1m1137/1137\u001b[0m \u001b[32m━━━━━━━━━━━━━━━━━━━━\u001b[0m\u001b[37m\u001b[0m \u001b[1m5s\u001b[0m 3ms/step - accuracy: 0.9334 - loss: 0.2287 - val_accuracy: 0.9092 - val_loss: 0.4306\n"
          ]
        }
      ],
      "source": [
        "# Build the model\n",
        "\n",
        "model = Sequential()\n",
        "model.add(Input(shape=(X_train.shape[1],)))  # x.shape[1] has count of input features.\n",
        "\n",
        "model.add(Dense(128, activation='relu', kernel_regularizer=l2(0.01))) # relu with L2 regularization\n",
        "model.add(BatchNormalization())   # Stabilize training between layers\n",
        "model.add(LeakyReLU(alpha=0.01))  # Allow small negative weights\n",
        "model.add(Dropout(0.3))  # Dropout with 20% rate\n",
        "\n",
        "model.add(Dense(128, activation='relu'))\n",
        "model.add(BatchNormalization())   # Stabilize training between layers\n",
        "model.add(LeakyReLU(alpha=0.01))  # Allow small negative weights\n",
        "model.add(Dropout(0.3))  # Dropout with 20% rate\n",
        "\n",
        "model.add(Dense(64, activation='relu'))\n",
        "model.add(Dense(pd.DataFrame(y_train).shape[1], activation='softmax'))  # Adjust activation based on your target\n",
        "\n",
        "# Print the model summary\n",
        "model.summary()\n",
        "\n",
        "# Set the learning rate on the adam optimizer\n",
        "optimizer = Adam(learning_rate=0.0005)  # Lower learning rate\n",
        "\n",
        "# Compile the model\n",
        "model.compile(loss='categorical_crossentropy', optimizer=optimizer, metrics=['accuracy'])\n",
        "\n",
        "# Train the model with early stopping\n",
        "history = model.fit(X_train, y_train, epochs=200, batch_size=128, validation_split=0.2, callbacks=[early_stopping])\n"
      ]
    },
    {
      "cell_type": "markdown",
      "source": [
        "**Measure the Model**"
      ],
      "metadata": {
        "id": "4LWZaoXJA6GQ"
      }
    },
    {
      "cell_type": "code",
      "source": [
        "\n",
        "# call it for this model but we'll reuse the method later\n",
        "eval_model(X_train, y_train)\n",
        "tuned_ann_score = model.evaluate(X_train, y_train, verbose=0)"
      ],
      "metadata": {
        "colab": {
          "base_uri": "https://localhost:8080/"
        },
        "id": "IxVccN1W8lv1",
        "outputId": "9e3182ea-e950-4680-a937-a8998ac93b1c"
      },
      "execution_count": 35,
      "outputs": [
        {
          "output_type": "stream",
          "name": "stdout",
          "text": [
            "\u001b[1m5681/5681\u001b[0m \u001b[32m━━━━━━━━━━━━━━━━━━━━\u001b[0m\u001b[37m\u001b[0m \u001b[1m6s\u001b[0m 993us/step\n"
          ]
        },
        {
          "output_type": "stream",
          "name": "stderr",
          "text": [
            "/usr/local/lib/python3.11/dist-packages/sklearn/metrics/_classification.py:1565: UndefinedMetricWarning: Precision is ill-defined and being set to 0.0 in labels with no predicted samples. Use `zero_division` parameter to control this behavior.\n",
            "  _warn_prf(average, modifier, f\"{metric.capitalize()} is\", len(result))\n",
            "/usr/local/lib/python3.11/dist-packages/sklearn/metrics/_classification.py:1565: UndefinedMetricWarning: Precision is ill-defined and being set to 0.0 in labels with no predicted samples. Use `zero_division` parameter to control this behavior.\n",
            "  _warn_prf(average, modifier, f\"{metric.capitalize()} is\", len(result))\n",
            "/usr/local/lib/python3.11/dist-packages/sklearn/metrics/_classification.py:1565: UndefinedMetricWarning: Precision is ill-defined and being set to 0.0 in labels with no predicted samples. Use `zero_division` parameter to control this behavior.\n",
            "  _warn_prf(average, modifier, f\"{metric.capitalize()} is\", len(result))\n",
            "/usr/local/lib/python3.11/dist-packages/sklearn/metrics/_classification.py:1565: UndefinedMetricWarning: Precision is ill-defined and being set to 0.0 in labels with no predicted samples. Use `zero_division` parameter to control this behavior.\n",
            "  _warn_prf(average, modifier, f\"{metric.capitalize()} is\", len(result))\n"
          ]
        },
        {
          "output_type": "stream",
          "name": "stdout",
          "text": [
            "Model evaluation - Loss: 7.555850028991699, Accuracy: 0.6256904006004333\n",
            "precision = 0.3963866386604819\n",
            "recall = 0.2512580473193135\n",
            "Confusion matrix on training data:\n",
            "- x-axis is true labels.\n",
            "- y-axis is predicted labels\n",
            "     0   1     2   3    4   5   6   7   8      9       10\n",
            "0   945   0     9   0    0   0   0   0   0   2311    1479\n",
            "1     0   0    12   0    0   0   0  54   0  35318   26530\n",
            "2     0   0  1952   0    0   0   0   0   0      0     896\n",
            "3     0   0     0   0    0   0   0   0   0      0      24\n",
            "4     0   0    19   0  125   0   0   0   0    419     564\n",
            "5     0   0     0   0    0   0   0   0   0     21      46\n",
            "6     0   0     0   0    0   0   0   0   0      0      12\n",
            "7     0   0    45   0    0   0   0  85   0     21      75\n",
            "8     0   0     0   0    0   0   0   0   0      0      12\n",
            "9     0   0     0   0    0   0   0   0   0    111     172\n",
            "10    0   0     0   0    0   0   0   0   0      0  110515\n",
            " \n",
            "              precision    recall  f1-score   support\n",
            "\n",
            "           0       1.00      0.20      0.33      4744\n",
            "           1       0.00      0.00      0.00     61914\n",
            "           2       0.96      0.69      0.80      2848\n",
            "           3       0.00      0.00      0.00        24\n",
            "           4       1.00      0.11      0.20      1127\n",
            "           5       0.00      0.00      0.00        67\n",
            "           6       0.00      0.00      0.00        12\n",
            "           7       0.61      0.38      0.47       226\n",
            "           8       0.00      0.00      0.00        12\n",
            "           9       0.00      0.39      0.01       283\n",
            "          10       0.79      1.00      0.88    110515\n",
            "\n",
            "    accuracy                           0.63    181772\n",
            "   macro avg       0.40      0.25      0.24    181772\n",
            "weighted avg       0.53      0.63      0.56    181772\n",
            "\n"
          ]
        }
      ]
    },
    {
      "cell_type": "markdown",
      "metadata": {
        "id": "GK_OyBd3-heV"
      },
      "source": [
        "**Visualize the Model**"
      ]
    },
    {
      "cell_type": "code",
      "execution_count": 36,
      "metadata": {
        "colab": {
          "base_uri": "https://localhost:8080/",
          "height": 324
        },
        "id": "fpRJ1kGBDO-d",
        "outputId": "0fee9572-586e-4ad8-b1c6-55ff82d14b0a"
      },
      "outputs": [
        {
          "output_type": "stream",
          "name": "stdout",
          "text": [
            "\u001b[1m5681/5681\u001b[0m \u001b[32m━━━━━━━━━━━━━━━━━━━━\u001b[0m\u001b[37m\u001b[0m \u001b[1m6s\u001b[0m 968us/step\n"
          ]
        },
        {
          "output_type": "display_data",
          "data": {
            "text/plain": [
              "<Figure size 700x300 with 3 Axes>"
            ],
            "image/png": "[encoded data removed]"
          },
          "metadata": {}
        }
      ],
      "source": [
        "# Plot the resultsl\n",
        "y_pred = model.predict(X_train)\n",
        "plot_viz_wide(3, history, y_pred, y_train)\n"
      ]
    },
    {
      "cell_type": "markdown",
      "metadata": {
        "id": "IzghIcT8NzOA"
      },
      "source": [
        "###RNN + LSTM MODEL"
      ]
    },
    {
      "cell_type": "markdown",
      "source": [
        "**Build the RNN + LSTM Model**"
      ],
      "metadata": {
        "id": "w66gugC0XaGN"
      }
    },
    {
      "cell_type": "code",
      "execution_count": 37,
      "metadata": {
        "id": "qDX0EjU7QOb-",
        "colab": {
          "base_uri": "https://localhost:8080/",
          "height": 341
        },
        "outputId": "5241552a-f8c0-4513-8091-806c9c830141"
      },
      "outputs": [
        {
          "output_type": "stream",
          "name": "stderr",
          "text": [
            "/usr/local/lib/python3.11/dist-packages/keras/src/layers/rnn/rnn.py:200: UserWarning: Do not pass an `input_shape`/`input_dim` argument to a layer. When using Sequential models, prefer using an `Input(shape)` object as the first layer in the model instead.\n",
            "  super().__init__(**kwargs)\n"
          ]
        },
        {
          "output_type": "display_data",
          "data": {
            "text/plain": [
              "\u001b[1mModel: \"sequential_1\"\u001b[0m\n"
            ],
            "text/html": [
              "<pre style=\"white-space:pre;overflow-x:auto;line-height:normal;font-family:Menlo,'DejaVu Sans Mono',consolas,'Courier New',monospace\"><span style=\"font-weight: bold\">Model: \"sequential_1\"</span>\n",
              "</pre>\n"
            ]
          },
          "metadata": {}
        },
        {
          "output_type": "display_data",
          "data": {
            "text/plain": [
              "┏━━━━━━━━━━━━━━━━━━━━━━━━━━━━━━━━━━━━━━┳━━━━━━━━━━━━━━━━━━━━━━━━━━━━━┳━━━━━━━━━━━━━━━━━┓\n",
              "┃\u001b[1m \u001b[0m\u001b[1mLayer (type)                        \u001b[0m\u001b[1m \u001b[0m┃\u001b[1m \u001b[0m\u001b[1mOutput Shape               \u001b[0m\u001b[1m \u001b[0m┃\u001b[1m \u001b[0m\u001b[1m        Param #\u001b[0m\u001b[1m \u001b[0m┃\n",
              "┡━━━━━━━━━━━━━━━━━━━━━━━━━━━━━━━━━━━━━━╇━━━━━━━━━━━━━━━━━━━━━━━━━━━━━╇━━━━━━━━━━━━━━━━━┩\n",
              "│ lstm (\u001b[38;5;33mLSTM\u001b[0m)                          │ (\u001b[38;5;45mNone\u001b[0m, \u001b[38;5;34m181772\u001b[0m, \u001b[38;5;34m128\u001b[0m)         │          \u001b[38;5;34m78,336\u001b[0m │\n",
              "├──────────────────────────────────────┼─────────────────────────────┼─────────────────┤\n",
              "│ dropout_2 (\u001b[38;5;33mDropout\u001b[0m)                  │ (\u001b[38;5;45mNone\u001b[0m, \u001b[38;5;34m181772\u001b[0m, \u001b[38;5;34m128\u001b[0m)         │               \u001b[38;5;34m0\u001b[0m │\n",
              "├──────────────────────────────────────┼─────────────────────────────┼─────────────────┤\n",
              "│ lstm_1 (\u001b[38;5;33mLSTM\u001b[0m)                        │ (\u001b[38;5;45mNone\u001b[0m, \u001b[38;5;34m64\u001b[0m)                  │          \u001b[38;5;34m49,408\u001b[0m │\n",
              "├──────────────────────────────────────┼─────────────────────────────┼─────────────────┤\n",
              "│ dense_4 (\u001b[38;5;33mDense\u001b[0m)                      │ (\u001b[38;5;45mNone\u001b[0m, \u001b[38;5;34m32\u001b[0m)                  │           \u001b[38;5;34m2,080\u001b[0m │\n",
              "├──────────────────────────────────────┼─────────────────────────────┼─────────────────┤\n",
              "│ dense_5 (\u001b[38;5;33mDense\u001b[0m)                      │ (\u001b[38;5;45mNone\u001b[0m, \u001b[38;5;34m11\u001b[0m)                  │             \u001b[38;5;34m363\u001b[0m │\n",
              "└──────────────────────────────────────┴─────────────────────────────┴─────────────────┘\n"
            ],
            "text/html": [
              "<pre style=\"white-space:pre;overflow-x:auto;line-height:normal;font-family:Menlo,'DejaVu Sans Mono',consolas,'Courier New',monospace\">┏━━━━━━━━━━━━━━━━━━━━━━━━━━━━━━━━━━━━━━┳━━━━━━━━━━━━━━━━━━━━━━━━━━━━━┳━━━━━━━━━━━━━━━━━┓\n",
              "┃<span style=\"font-weight: bold\"> Layer (type)                         </span>┃<span style=\"font-weight: bold\"> Output Shape                </span>┃<span style=\"font-weight: bold\">         Param # </span>┃\n",
              "┡━━━━━━━━━━━━━━━━━━━━━━━━━━━━━━━━━━━━━━╇━━━━━━━━━━━━━━━━━━━━━━━━━━━━━╇━━━━━━━━━━━━━━━━━┩\n",
              "│ lstm (<span style=\"color: #0087ff; text-decoration-color: #0087ff\">LSTM</span>)                          │ (<span style=\"color: #00d7ff; text-decoration-color: #00d7ff\">None</span>, <span style=\"color: #00af00; text-decoration-color: #00af00\">181772</span>, <span style=\"color: #00af00; text-decoration-color: #00af00\">128</span>)         │          <span style=\"color: #00af00; text-decoration-color: #00af00\">78,336</span> │\n",
              "├──────────────────────────────────────┼─────────────────────────────┼─────────────────┤\n",
              "│ dropout_2 (<span style=\"color: #0087ff; text-decoration-color: #0087ff\">Dropout</span>)                  │ (<span style=\"color: #00d7ff; text-decoration-color: #00d7ff\">None</span>, <span style=\"color: #00af00; text-decoration-color: #00af00\">181772</span>, <span style=\"color: #00af00; text-decoration-color: #00af00\">128</span>)         │               <span style=\"color: #00af00; text-decoration-color: #00af00\">0</span> │\n",
              "├──────────────────────────────────────┼─────────────────────────────┼─────────────────┤\n",
              "│ lstm_1 (<span style=\"color: #0087ff; text-decoration-color: #0087ff\">LSTM</span>)                        │ (<span style=\"color: #00d7ff; text-decoration-color: #00d7ff\">None</span>, <span style=\"color: #00af00; text-decoration-color: #00af00\">64</span>)                  │          <span style=\"color: #00af00; text-decoration-color: #00af00\">49,408</span> │\n",
              "├──────────────────────────────────────┼─────────────────────────────┼─────────────────┤\n",
              "│ dense_4 (<span style=\"color: #0087ff; text-decoration-color: #0087ff\">Dense</span>)                      │ (<span style=\"color: #00d7ff; text-decoration-color: #00d7ff\">None</span>, <span style=\"color: #00af00; text-decoration-color: #00af00\">32</span>)                  │           <span style=\"color: #00af00; text-decoration-color: #00af00\">2,080</span> │\n",
              "├──────────────────────────────────────┼─────────────────────────────┼─────────────────┤\n",
              "│ dense_5 (<span style=\"color: #0087ff; text-decoration-color: #0087ff\">Dense</span>)                      │ (<span style=\"color: #00d7ff; text-decoration-color: #00d7ff\">None</span>, <span style=\"color: #00af00; text-decoration-color: #00af00\">11</span>)                  │             <span style=\"color: #00af00; text-decoration-color: #00af00\">363</span> │\n",
              "└──────────────────────────────────────┴─────────────────────────────┴─────────────────┘\n",
              "</pre>\n"
            ]
          },
          "metadata": {}
        },
        {
          "output_type": "display_data",
          "data": {
            "text/plain": [
              "\u001b[1m Total params: \u001b[0m\u001b[38;5;34m130,187\u001b[0m (508.54 KB)\n"
            ],
            "text/html": [
              "<pre style=\"white-space:pre;overflow-x:auto;line-height:normal;font-family:Menlo,'DejaVu Sans Mono',consolas,'Courier New',monospace\"><span style=\"font-weight: bold\"> Total params: </span><span style=\"color: #00af00; text-decoration-color: #00af00\">130,187</span> (508.54 KB)\n",
              "</pre>\n"
            ]
          },
          "metadata": {}
        },
        {
          "output_type": "display_data",
          "data": {
            "text/plain": [
              "\u001b[1m Trainable params: \u001b[0m\u001b[38;5;34m130,187\u001b[0m (508.54 KB)\n"
            ],
            "text/html": [
              "<pre style=\"white-space:pre;overflow-x:auto;line-height:normal;font-family:Menlo,'DejaVu Sans Mono',consolas,'Courier New',monospace\"><span style=\"font-weight: bold\"> Trainable params: </span><span style=\"color: #00af00; text-decoration-color: #00af00\">130,187</span> (508.54 KB)\n",
              "</pre>\n"
            ]
          },
          "metadata": {}
        },
        {
          "output_type": "display_data",
          "data": {
            "text/plain": [
              "\u001b[1m Non-trainable params: \u001b[0m\u001b[38;5;34m0\u001b[0m (0.00 B)\n"
            ],
            "text/html": [
              "<pre style=\"white-space:pre;overflow-x:auto;line-height:normal;font-family:Menlo,'DejaVu Sans Mono',consolas,'Courier New',monospace\"><span style=\"font-weight: bold\"> Non-trainable params: </span><span style=\"color: #00af00; text-decoration-color: #00af00\">0</span> (0.00 B)\n",
              "</pre>\n"
            ]
          },
          "metadata": {}
        }
      ],
      "source": [
        "import tensorflow as tf\n",
        "from tensorflow.keras.models import Sequential\n",
        "from tensorflow.keras.layers import LSTM, Dense, Dropout\n",
        "from keras.callbacks import ReduceLROnPlateau\n",
        "\n",
        "# reshape X_train for LSTM\n",
        "X_train_LSTM = X_train.to_numpy(dtype=np.float32)\n",
        "X_train_LSTM = X_train_LSTM.reshape((X_train.shape[0], 1, X_train.shape[1]))\n",
        "\n",
        "# Build the LSTM model\n",
        "model = Sequential()\n",
        "model.add(LSTM(128, input_shape=(X_train_LSTM.shape[0], 24), return_sequences=True))\n",
        "model.add(Dropout(0.5))\n",
        "model.add(LSTM(64, return_sequences=False))\n",
        "model.add(Dense(32, activation='relu'))\n",
        "model.add(Dense(pd.DataFrame(y_train).shape[1], activation='softmax'))  # getting the number of unique classes in y\n",
        "\n",
        "# Print the model summary\n",
        "model.summary()\n",
        "\n",
        "# Compile the model\n",
        "model.compile(loss='categorical_crossentropy', optimizer='adam', metrics=['accuracy'])\n",
        "\n"
      ]
    },
    {
      "cell_type": "markdown",
      "source": [
        "**Train the RNN + LSTM Model**"
      ],
      "metadata": {
        "id": "XDSkb5NzWx2p"
      }
    },
    {
      "cell_type": "code",
      "source": [
        "# Callbacks for early stopping and learning rate reduction\n",
        "early_stopping = EarlyStopping(monitor='val_loss', patience=10, restore_best_weights=True)\n",
        "reduce_lr = ReduceLROnPlateau(monitor='val_loss', factor=0.2, patience=5, min_lr=0.00001)\n",
        "\n",
        "# Train the model and save the history\n",
        "history = model.fit(X_train_LSTM, y_train, epochs=10, batch_size=32, validation_split=0.2, callbacks=[early_stopping, reduce_lr])\n"
      ],
      "metadata": {
        "colab": {
          "base_uri": "https://localhost:8080/"
        },
        "id": "nzk8iVRfWxCY",
        "outputId": "9ba971fa-3012-44a5-d99b-1428dbb75a04"
      },
      "execution_count": 38,
      "outputs": [
        {
          "output_type": "stream",
          "name": "stdout",
          "text": [
            "Epoch 1/10\n",
            "\u001b[1m4545/4545\u001b[0m \u001b[32m━━━━━━━━━━━━━━━━━━━━\u001b[0m\u001b[37m\u001b[0m \u001b[1m25s\u001b[0m 5ms/step - accuracy: 0.9281 - loss: 0.2822 - val_accuracy: 0.9679 - val_loss: 0.1233 - learning_rate: 0.0010\n",
            "Epoch 2/10\n",
            "\u001b[1m4545/4545\u001b[0m \u001b[32m━━━━━━━━━━━━━━━━━━━━\u001b[0m\u001b[37m\u001b[0m \u001b[1m40s\u001b[0m 5ms/step - accuracy: 0.9723 - loss: 0.1053 - val_accuracy: 0.9732 - val_loss: 0.1116 - learning_rate: 0.0010\n",
            "Epoch 3/10\n",
            "\u001b[1m4545/4545\u001b[0m \u001b[32m━━━━━━━━━━━━━━━━━━━━\u001b[0m\u001b[37m\u001b[0m \u001b[1m21s\u001b[0m 5ms/step - accuracy: 0.9782 - loss: 0.0844 - val_accuracy: 0.9767 - val_loss: 0.0931 - learning_rate: 0.0010\n",
            "Epoch 4/10\n",
            "\u001b[1m4545/4545\u001b[0m \u001b[32m━━━━━━━━━━━━━━━━━━━━\u001b[0m\u001b[37m\u001b[0m \u001b[1m42s\u001b[0m 5ms/step - accuracy: 0.9799 - loss: 0.0769 - val_accuracy: 0.9806 - val_loss: 0.0683 - learning_rate: 0.0010\n",
            "Epoch 5/10\n",
            "\u001b[1m4545/4545\u001b[0m \u001b[32m━━━━━━━━━━━━━━━━━━━━\u001b[0m\u001b[37m\u001b[0m \u001b[1m42s\u001b[0m 5ms/step - accuracy: 0.9819 - loss: 0.0707 - val_accuracy: 0.9836 - val_loss: 0.0589 - learning_rate: 0.0010\n",
            "Epoch 6/10\n",
            "\u001b[1m4545/4545\u001b[0m \u001b[32m━━━━━━━━━━━━━━━━━━━━\u001b[0m\u001b[37m\u001b[0m \u001b[1m22s\u001b[0m 5ms/step - accuracy: 0.9813 - loss: 0.0718 - val_accuracy: 0.9857 - val_loss: 0.0519 - learning_rate: 0.0010\n",
            "Epoch 7/10\n",
            "\u001b[1m4545/4545\u001b[0m \u001b[32m━━━━━━━━━━━━━━━━━━━━\u001b[0m\u001b[37m\u001b[0m \u001b[1m22s\u001b[0m 5ms/step - accuracy: 0.9828 - loss: 0.0664 - val_accuracy: 0.9856 - val_loss: 0.0498 - learning_rate: 0.0010\n",
            "Epoch 8/10\n",
            "\u001b[1m4545/4545\u001b[0m \u001b[32m━━━━━━━━━━━━━━━━━━━━\u001b[0m\u001b[37m\u001b[0m \u001b[1m21s\u001b[0m 5ms/step - accuracy: 0.9823 - loss: 0.0674 - val_accuracy: 0.9878 - val_loss: 0.0436 - learning_rate: 0.0010\n",
            "Epoch 9/10\n",
            "\u001b[1m4545/4545\u001b[0m \u001b[32m━━━━━━━━━━━━━━━━━━━━\u001b[0m\u001b[37m\u001b[0m \u001b[1m21s\u001b[0m 5ms/step - accuracy: 0.9849 - loss: 0.0593 - val_accuracy: 0.9863 - val_loss: 0.0489 - learning_rate: 0.0010\n",
            "Epoch 10/10\n",
            "\u001b[1m4545/4545\u001b[0m \u001b[32m━━━━━━━━━━━━━━━━━━━━\u001b[0m\u001b[37m\u001b[0m \u001b[1m21s\u001b[0m 5ms/step - accuracy: 0.9832 - loss: 0.0643 - val_accuracy: 0.9888 - val_loss: 0.0429 - learning_rate: 0.0010\n"
          ]
        }
      ]
    },
    {
      "cell_type": "markdown",
      "source": [
        "**Evaluate the RNN + LSTM Model**"
      ],
      "metadata": {
        "id": "xseaU17Ux2mN"
      }
    },
    {
      "cell_type": "code",
      "source": [
        "# call it for this model but we'll reuse the method later\n",
        "eval_model(X_train_LSTM, y_train)\n",
        "lstm_score = model.evaluate(X_train_LSTM, y_train, verbose=0)"
      ],
      "metadata": {
        "colab": {
          "base_uri": "https://localhost:8080/"
        },
        "id": "AGUaXbG0D-ZU",
        "outputId": "9b63503e-593f-465e-c9e5-09ea5b0f724a"
      },
      "execution_count": 39,
      "outputs": [
        {
          "output_type": "stream",
          "name": "stdout",
          "text": [
            "\u001b[1m5681/5681\u001b[0m \u001b[32m━━━━━━━━━━━━━━━━━━━━\u001b[0m\u001b[37m\u001b[0m \u001b[1m8s\u001b[0m 1ms/step\n",
            "Model evaluation - Loss: 0.042496927082538605, Accuracy: 0.9891787767410278\n",
            "precision = 0.9980594359292172\n",
            "recall = 0.9514772601518197\n",
            "Confusion matrix on training data:\n",
            "- x-axis is true labels.\n",
            "- y-axis is predicted labels\n",
            "      0      1     2   3     4   5   6    7   8    9       10\n",
            "0   4570     82     0   0     0   0   0    0   0    0      92\n",
            "1     11  60328     0   0     0   0   0    0   0    0    1575\n",
            "2      0      0  2838   0     0   0   0    0   0    0      10\n",
            "3      0      0     0  24     0   0   0    0   0    0       0\n",
            "4      0     18     0   0  1030   0   0    0   0    0      79\n",
            "5      0      0     0   0     0  67   0    0   0    0       0\n",
            "6      0      0     0   0     0   0  12    0   0    0       0\n",
            "7      0     32     0   0     0   0   0  194   0    0       0\n",
            "8      0      0     0   0     0   0   0    0  12    0       0\n",
            "9      0     68     0   0     0   0   0    0   0  215       0\n",
            "10     0      0     0   0     0   0   0    0   0    0  110515\n",
            " \n",
            "              precision    recall  f1-score   support\n",
            "\n",
            "           0       1.00      0.96      0.98      4744\n",
            "           1       1.00      0.97      0.99     61914\n",
            "           2       1.00      1.00      1.00      2848\n",
            "           3       1.00      1.00      1.00        24\n",
            "           4       1.00      0.91      0.96      1127\n",
            "           5       1.00      1.00      1.00        67\n",
            "           6       1.00      1.00      1.00        12\n",
            "           7       1.00      0.86      0.92       226\n",
            "           8       1.00      1.00      1.00        12\n",
            "           9       1.00      0.76      0.86       283\n",
            "          10       0.98      1.00      0.99    110515\n",
            "\n",
            "    accuracy                           0.99    181772\n",
            "   macro avg       1.00      0.95      0.97    181772\n",
            "weighted avg       0.99      0.99      0.99    181772\n",
            "\n"
          ]
        }
      ]
    },
    {
      "cell_type": "markdown",
      "source": [
        "**Visualize the Model Metrics per Epoch**"
      ],
      "metadata": {
        "id": "26ma8TMBwHlM"
      }
    },
    {
      "cell_type": "code",
      "source": [
        "# Plot the resultsl\n",
        "y_pred = model.predict(X_train_LSTM)\n",
        "plot_viz_wide(3, history, y_pred, y_train)\n"
      ],
      "metadata": {
        "colab": {
          "base_uri": "https://localhost:8080/",
          "height": 324
        },
        "id": "31jtshXlwKsh",
        "outputId": "bde6f1ba-b9d4-41e1-e6c5-7d395d79b8c0"
      },
      "execution_count": 40,
      "outputs": [
        {
          "output_type": "stream",
          "name": "stdout",
          "text": [
            "\u001b[1m5681/5681\u001b[0m \u001b[32m━━━━━━━━━━━━━━━━━━━━\u001b[0m\u001b[37m\u001b[0m \u001b[1m8s\u001b[0m 1ms/step\n"
          ]
        },
        {
          "output_type": "display_data",
          "data": {
            "text/plain": [
              "<Figure size 700x300 with 3 Axes>"
            ],
            "image/png": "[encoded data removed]"
          },
          "metadata": {}
        }
      ]
    },
    {
      "cell_type": "markdown",
      "source": [
        "**Use Unseen Test Data to Evaluate the RNN + LSTM Model**"
      ],
      "metadata": {
        "id": "gBirBuQVW0Yx"
      }
    },
    {
      "cell_type": "markdown",
      "source": [
        "Prepare the Test Data\n",
        "\n",
        "The test data have not been scaled, normalized, filtered, etc.  Apply the preprocessing transforms we fit and saved earlier."
      ],
      "metadata": {
        "id": "nXg3YXxJ5CRS"
      }
    },
    {
      "cell_type": "code",
      "source": [
        "# encode and scale the test data\n",
        "X_test, y_test = do_preproc(X_test_raw, y_test_raw, transform_only = True)  # we don't want to re-fit the data\n",
        "X_test.drop(columns=['date'], inplace=True)\n",
        "# reshape X_train for LSTM. We did this same thing for X_train_LSTM so this has to match\n",
        "X_test_LSTM = X_test.copy()\n",
        "X_test_LSTM = X_test_LSTM.values.reshape((X_test_LSTM.shape[0], 1, X_test_LSTM.shape[1]))\n"
      ],
      "metadata": {
        "id": "e-23EVqj5GZ8",
        "colab": {
          "base_uri": "https://localhost:8080/"
        },
        "outputId": "8f8ae2c8-635b-4710-9259-22befad9574b"
      },
      "execution_count": 41,
      "outputs": [
        {
          "output_type": "stream",
          "name": "stdout",
          "text": [
            "Label encoding completed.\n",
            "Numerical columns cleaned and renamed.\n",
            "Data normalization completed.\n"
          ]
        }
      ]
    },
    {
      "cell_type": "markdown",
      "source": [
        "**Measure the Model on Unseen Data**"
      ],
      "metadata": {
        "id": "OykgGWVUyV75"
      }
    },
    {
      "cell_type": "code",
      "source": [
        "# Evaluate the model\n",
        "LSTM_score = model.evaluate(X_test_LSTM, y_test, verbose=0)\n",
        "print(f\"Model evaluation - Loss: {LSTM_score[0]}, Accuracy: {LSTM_score[1]}\")"
      ],
      "metadata": {
        "id": "v9aKF3c9Wpwy",
        "colab": {
          "base_uri": "https://localhost:8080/"
        },
        "outputId": "ae31bd17-6ddf-4bce-fa43-4141237fea98"
      },
      "execution_count": 42,
      "outputs": [
        {
          "output_type": "stream",
          "name": "stdout",
          "text": [
            "Model evaluation - Loss: 0.04604148864746094, Accuracy: 0.9881830215454102\n"
          ]
        }
      ]
    },
    {
      "cell_type": "markdown",
      "metadata": {
        "id": "H0dWRP-tRqp2"
      },
      "source": [
        "**Visualize Predictions vs. Actuals**"
      ]
    },
    {
      "cell_type": "code",
      "execution_count": 43,
      "metadata": {
        "id": "Vzq8LqLHRuU0",
        "colab": {
          "base_uri": "https://localhost:8080/",
          "height": 273
        },
        "outputId": "5e1814d0-141f-4692-d29a-ae062c380f07"
      },
      "outputs": [
        {
          "output_type": "stream",
          "name": "stdout",
          "text": [
            "\u001b[1m1421/1421\u001b[0m \u001b[32m━━━━━━━━━━━━━━━━━━━━\u001b[0m\u001b[37m\u001b[0m \u001b[1m2s\u001b[0m 2ms/step\n"
          ]
        },
        {
          "output_type": "display_data",
          "data": {
            "text/plain": [
              "<Figure size 400x200 with 1 Axes>"
            ],
            "image/png": "[encoded data removed]"
          },
          "metadata": {}
        }
      ],
      "source": [
        "# Scatter plot of predictions vs actuals\n",
        "y_pred = model.predict(X_test_LSTM)\n",
        "plt.figure(figsize=(4,2))\n",
        "plt.scatter(y_test.argmax(axis=1), y_pred.argmax(axis=1), alpha=0.5)\n",
        "plt.title('Predictions vs Actuals')\n",
        "plt.xlabel('Actual Values')\n",
        "plt.ylabel('Predicted Values')\n",
        "plt.show()\n"
      ]
    },
    {
      "cell_type": "markdown",
      "source": [
        "###GRNN MODEL"
      ],
      "metadata": {
        "id": "9EAdf-ocu6qD"
      }
    },
    {
      "cell_type": "code",
      "source": [
        "from tensorflow.keras.models import Sequential\n",
        "from tensorflow.keras.layers import Dense, Dropout, Input\n",
        "from tensorflow.keras.optimizers import Adam\n",
        "\n",
        "# Build the GRNN model\n",
        "model = Sequential()\n",
        "model.add(Input(shape=(X_train.shape[1],)))  # Input layer\n",
        "model.add(Dense(128, activation='relu', kernel_regularizer=tf.keras.regularizers.l2(0.01)))\n",
        "model.add(Dropout(0.3))\n",
        "model.add(Dense(128, activation='relu'))\n",
        "model.add(Dropout(0.3))\n",
        "model.add(Dense(64, activation='relu'))\n",
        "model.add(Dense(y_train.shape[1], activation='softmax'))  # Output layer\n",
        "\n",
        "# Print the model summary\n",
        "model.summary()\n",
        "\n",
        "# Set the learning rate on the Adam optimizer\n",
        "optimizer = Adam(learning_rate=0.0005)\n",
        "\n",
        "# Compile the model\n",
        "model.compile(loss='categorical_crossentropy', optimizer=optimizer, metrics=['accuracy'])\n",
        "\n",
        "# Callbacks for early stopping and learning rate reduction\n",
        "early_stopping = tf.keras.callbacks.EarlyStopping(monitor='val_loss', patience=10, restore_best_weights=True)\n",
        "reduce_lr = tf.keras.callbacks.ReduceLROnPlateau(monitor='val_loss', factor=0.2, patience=5, min_lr=0.00001)\n",
        "\n",
        "# Train the model and save the history\n",
        "history = model.fit(X_train, y_train, epochs=5, batch_size=32, validation_split=0.2, callbacks=[early_stopping, reduce_lr])\n",
        "\n",
        "# Evaluate the model\n",
        "grnn_score = model.evaluate(X_test, y_test, verbose=0)\n",
        "print(f\"Model evaluation - Loss: {grnn_score[0]}, Accuracy: {grnn_score[1]}\")\n"
      ],
      "metadata": {
        "id": "1D1J3jBru91g",
        "colab": {
          "base_uri": "https://localhost:8080/",
          "height": 509
        },
        "outputId": "f096dc9c-465c-42ff-d6f3-895cc63b3c26"
      },
      "execution_count": 44,
      "outputs": [
        {
          "output_type": "display_data",
          "data": {
            "text/plain": [
              "\u001b[1mModel: \"sequential_2\"\u001b[0m\n"
            ],
            "text/html": [
              "<pre style=\"white-space:pre;overflow-x:auto;line-height:normal;font-family:Menlo,'DejaVu Sans Mono',consolas,'Courier New',monospace\"><span style=\"font-weight: bold\">Model: \"sequential_2\"</span>\n",
              "</pre>\n"
            ]
          },
          "metadata": {}
        },
        {
          "output_type": "display_data",
          "data": {
            "text/plain": [
              "┏━━━━━━━━━━━━━━━━━━━━━━━━━━━━━━━━━━━━━━┳━━━━━━━━━━━━━━━━━━━━━━━━━━━━━┳━━━━━━━━━━━━━━━━━┓\n",
              "┃\u001b[1m \u001b[0m\u001b[1mLayer (type)                        \u001b[0m\u001b[1m \u001b[0m┃\u001b[1m \u001b[0m\u001b[1mOutput Shape               \u001b[0m\u001b[1m \u001b[0m┃\u001b[1m \u001b[0m\u001b[1m        Param #\u001b[0m\u001b[1m \u001b[0m┃\n",
              "┡━━━━━━━━━━━━━━━━━━━━━━━━━━━━━━━━━━━━━━╇━━━━━━━━━━━━━━━━━━━━━━━━━━━━━╇━━━━━━━━━━━━━━━━━┩\n",
              "│ dense_6 (\u001b[38;5;33mDense\u001b[0m)                      │ (\u001b[38;5;45mNone\u001b[0m, \u001b[38;5;34m128\u001b[0m)                 │           \u001b[38;5;34m3,200\u001b[0m │\n",
              "├──────────────────────────────────────┼─────────────────────────────┼─────────────────┤\n",
              "│ dropout_3 (\u001b[38;5;33mDropout\u001b[0m)                  │ (\u001b[38;5;45mNone\u001b[0m, \u001b[38;5;34m128\u001b[0m)                 │               \u001b[38;5;34m0\u001b[0m │\n",
              "├──────────────────────────────────────┼─────────────────────────────┼─────────────────┤\n",
              "│ dense_7 (\u001b[38;5;33mDense\u001b[0m)                      │ (\u001b[38;5;45mNone\u001b[0m, \u001b[38;5;34m128\u001b[0m)                 │          \u001b[38;5;34m16,512\u001b[0m │\n",
              "├──────────────────────────────────────┼─────────────────────────────┼─────────────────┤\n",
              "│ dropout_4 (\u001b[38;5;33mDropout\u001b[0m)                  │ (\u001b[38;5;45mNone\u001b[0m, \u001b[38;5;34m128\u001b[0m)                 │               \u001b[38;5;34m0\u001b[0m │\n",
              "├──────────────────────────────────────┼─────────────────────────────┼─────────────────┤\n",
              "│ dense_8 (\u001b[38;5;33mDense\u001b[0m)                      │ (\u001b[38;5;45mNone\u001b[0m, \u001b[38;5;34m64\u001b[0m)                  │           \u001b[38;5;34m8,256\u001b[0m │\n",
              "├──────────────────────────────────────┼─────────────────────────────┼─────────────────┤\n",
              "│ dense_9 (\u001b[38;5;33mDense\u001b[0m)                      │ (\u001b[38;5;45mNone\u001b[0m, \u001b[38;5;34m11\u001b[0m)                  │             \u001b[38;5;34m715\u001b[0m │\n",
              "└──────────────────────────────────────┴─────────────────────────────┴─────────────────┘\n"
            ],
            "text/html": [
              "<pre style=\"white-space:pre;overflow-x:auto;line-height:normal;font-family:Menlo,'DejaVu Sans Mono',consolas,'Courier New',monospace\">┏━━━━━━━━━━━━━━━━━━━━━━━━━━━━━━━━━━━━━━┳━━━━━━━━━━━━━━━━━━━━━━━━━━━━━┳━━━━━━━━━━━━━━━━━┓\n",
              "┃<span style=\"font-weight: bold\"> Layer (type)                         </span>┃<span style=\"font-weight: bold\"> Output Shape                </span>┃<span style=\"font-weight: bold\">         Param # </span>┃\n",
              "┡━━━━━━━━━━━━━━━━━━━━━━━━━━━━━━━━━━━━━━╇━━━━━━━━━━━━━━━━━━━━━━━━━━━━━╇━━━━━━━━━━━━━━━━━┩\n",
              "│ dense_6 (<span style=\"color: #0087ff; text-decoration-color: #0087ff\">Dense</span>)                      │ (<span style=\"color: #00d7ff; text-decoration-color: #00d7ff\">None</span>, <span style=\"color: #00af00; text-decoration-color: #00af00\">128</span>)                 │           <span style=\"color: #00af00; text-decoration-color: #00af00\">3,200</span> │\n",
              "├──────────────────────────────────────┼─────────────────────────────┼─────────────────┤\n",
              "│ dropout_3 (<span style=\"color: #0087ff; text-decoration-color: #0087ff\">Dropout</span>)                  │ (<span style=\"color: #00d7ff; text-decoration-color: #00d7ff\">None</span>, <span style=\"color: #00af00; text-decoration-color: #00af00\">128</span>)                 │               <span style=\"color: #00af00; text-decoration-color: #00af00\">0</span> │\n",
              "├──────────────────────────────────────┼─────────────────────────────┼─────────────────┤\n",
              "│ dense_7 (<span style=\"color: #0087ff; text-decoration-color: #0087ff\">Dense</span>)                      │ (<span style=\"color: #00d7ff; text-decoration-color: #00d7ff\">None</span>, <span style=\"color: #00af00; text-decoration-color: #00af00\">128</span>)                 │          <span style=\"color: #00af00; text-decoration-color: #00af00\">16,512</span> │\n",
              "├──────────────────────────────────────┼─────────────────────────────┼─────────────────┤\n",
              "│ dropout_4 (<span style=\"color: #0087ff; text-decoration-color: #0087ff\">Dropout</span>)                  │ (<span style=\"color: #00d7ff; text-decoration-color: #00d7ff\">None</span>, <span style=\"color: #00af00; text-decoration-color: #00af00\">128</span>)                 │               <span style=\"color: #00af00; text-decoration-color: #00af00\">0</span> │\n",
              "├──────────────────────────────────────┼─────────────────────────────┼─────────────────┤\n",
              "│ dense_8 (<span style=\"color: #0087ff; text-decoration-color: #0087ff\">Dense</span>)                      │ (<span style=\"color: #00d7ff; text-decoration-color: #00d7ff\">None</span>, <span style=\"color: #00af00; text-decoration-color: #00af00\">64</span>)                  │           <span style=\"color: #00af00; text-decoration-color: #00af00\">8,256</span> │\n",
              "├──────────────────────────────────────┼─────────────────────────────┼─────────────────┤\n",
              "│ dense_9 (<span style=\"color: #0087ff; text-decoration-color: #0087ff\">Dense</span>)                      │ (<span style=\"color: #00d7ff; text-decoration-color: #00d7ff\">None</span>, <span style=\"color: #00af00; text-decoration-color: #00af00\">11</span>)                  │             <span style=\"color: #00af00; text-decoration-color: #00af00\">715</span> │\n",
              "└──────────────────────────────────────┴─────────────────────────────┴─────────────────┘\n",
              "</pre>\n"
            ]
          },
          "metadata": {}
        },
        {
          "output_type": "display_data",
          "data": {
            "text/plain": [
              "\u001b[1m Total params: \u001b[0m\u001b[38;5;34m28,683\u001b[0m (112.04 KB)\n"
            ],
            "text/html": [
              "<pre style=\"white-space:pre;overflow-x:auto;line-height:normal;font-family:Menlo,'DejaVu Sans Mono',consolas,'Courier New',monospace\"><span style=\"font-weight: bold\"> Total params: </span><span style=\"color: #00af00; text-decoration-color: #00af00\">28,683</span> (112.04 KB)\n",
              "</pre>\n"
            ]
          },
          "metadata": {}
        },
        {
          "output_type": "display_data",
          "data": {
            "text/plain": [
              "\u001b[1m Trainable params: \u001b[0m\u001b[38;5;34m28,683\u001b[0m (112.04 KB)\n"
            ],
            "text/html": [
              "<pre style=\"white-space:pre;overflow-x:auto;line-height:normal;font-family:Menlo,'DejaVu Sans Mono',consolas,'Courier New',monospace\"><span style=\"font-weight: bold\"> Trainable params: </span><span style=\"color: #00af00; text-decoration-color: #00af00\">28,683</span> (112.04 KB)\n",
              "</pre>\n"
            ]
          },
          "metadata": {}
        },
        {
          "output_type": "display_data",
          "data": {
            "text/plain": [
              "\u001b[1m Non-trainable params: \u001b[0m\u001b[38;5;34m0\u001b[0m (0.00 B)\n"
            ],
            "text/html": [
              "<pre style=\"white-space:pre;overflow-x:auto;line-height:normal;font-family:Menlo,'DejaVu Sans Mono',consolas,'Courier New',monospace\"><span style=\"font-weight: bold\"> Non-trainable params: </span><span style=\"color: #00af00; text-decoration-color: #00af00\">0</span> (0.00 B)\n",
              "</pre>\n"
            ]
          },
          "metadata": {}
        },
        {
          "output_type": "stream",
          "name": "stdout",
          "text": [
            "Epoch 1/5\n",
            "\u001b[1m4545/4545\u001b[0m \u001b[32m━━━━━━━━━━━━━━━━━━━━\u001b[0m\u001b[37m\u001b[0m \u001b[1m10s\u001b[0m 2ms/step - accuracy: 0.8207 - loss: 1.3280 - val_accuracy: 0.9358 - val_loss: 0.2519 - learning_rate: 5.0000e-04\n",
            "Epoch 2/5\n",
            "\u001b[1m4545/4545\u001b[0m \u001b[32m━━━━━━━━━━━━━━━━━━━━\u001b[0m\u001b[37m\u001b[0m \u001b[1m10s\u001b[0m 2ms/step - accuracy: 0.9453 - loss: 0.2323 - val_accuracy: 0.9647 - val_loss: 0.1517 - learning_rate: 5.0000e-04\n",
            "Epoch 3/5\n",
            "\u001b[1m4545/4545\u001b[0m \u001b[32m━━━━━━━━━━━━━━━━━━━━\u001b[0m\u001b[37m\u001b[0m \u001b[1m10s\u001b[0m 2ms/step - accuracy: 0.9584 - loss: 0.1804 - val_accuracy: 0.9625 - val_loss: 0.1647 - learning_rate: 5.0000e-04\n",
            "Epoch 4/5\n",
            "\u001b[1m4545/4545\u001b[0m \u001b[32m━━━━━━━━━━━━━━━━━━━━\u001b[0m\u001b[37m\u001b[0m \u001b[1m10s\u001b[0m 2ms/step - accuracy: 0.9618 - loss: 0.1701 - val_accuracy: 0.9697 - val_loss: 0.1386 - learning_rate: 5.0000e-04\n",
            "Epoch 5/5\n",
            "\u001b[1m4545/4545\u001b[0m \u001b[32m━━━━━━━━━━━━━━━━━━━━\u001b[0m\u001b[37m\u001b[0m \u001b[1m10s\u001b[0m 2ms/step - accuracy: 0.9600 - loss: 0.1769 - val_accuracy: 0.9632 - val_loss: 0.1623 - learning_rate: 5.0000e-04\n",
            "Model evaluation - Loss: 0.1348871886730194, Accuracy: 0.9712386727333069\n"
          ]
        }
      ]
    },
    {
      "cell_type": "code",
      "source": [
        "# output model metrics\n",
        "eval_model(X_train, y_train)"
      ],
      "metadata": {
        "id": "ua-dbCmbH9Tl",
        "colab": {
          "base_uri": "https://localhost:8080/"
        },
        "outputId": "0e4845b4-83b4-48af-ae60-f67099770dfc"
      },
      "execution_count": 45,
      "outputs": [
        {
          "output_type": "stream",
          "name": "stdout",
          "text": [
            "\u001b[1m5681/5681\u001b[0m \u001b[32m━━━━━━━━━━━━━━━━━━━━\u001b[0m\u001b[37m\u001b[0m \u001b[1m5s\u001b[0m 852us/step\n",
            "Model evaluation - Loss: 0.1346571445465088, Accuracy: 0.9708371162414551\n",
            "precision = 0.613266574907686\n",
            "recall = 0.48901301604997616\n",
            "Confusion matrix on training data:\n",
            "- x-axis is true labels.\n",
            "- y-axis is predicted labels\n",
            "      0      1     2   3    4   5   6    7   8    9       10\n",
            "0   4357    181     0   0    0   0   0    0   0    0     206\n",
            "1     11  57854     0   0    0   0   0    0   0    0    4049\n",
            "2      0      0  2812   0    0   0   0    0   0    0      36\n",
            "3      0     24     0   0    0   0   0    0   0    0       0\n",
            "4      0    240     0   0  701   0   0   11   0    0     175\n",
            "5      0     55     0   0    0   0   0    0   0   12       0\n",
            "6     12      0     0   0    0   0   0    0   0    0       0\n",
            "7      0    106     0   0    0   0   0  109   0    0      11\n",
            "8      0      0     0   0   12   0   0    0   0    0       0\n",
            "9      0     93     0   0    0   0   0    0   0  123      67\n",
            "10     0      0     0   0    0   0   0    0   0    0  110515\n",
            " \n",
            "              precision    recall  f1-score   support\n",
            "\n",
            "           0       0.99      0.92      0.96      4744\n",
            "           1       0.99      0.93      0.96     61914\n",
            "           2       1.00      0.99      0.99      2848\n",
            "           3       0.00      0.00      0.00        24\n",
            "           4       0.98      0.62      0.76      1127\n",
            "           5       0.00      0.00      0.00        67\n",
            "           6       0.00      0.00      0.00        12\n",
            "           7       0.91      0.48      0.63       226\n",
            "           8       0.00      0.00      0.00        12\n",
            "           9       0.91      0.43      0.59       283\n",
            "          10       0.96      1.00      0.98    110515\n",
            "\n",
            "    accuracy                           0.97    181772\n",
            "   macro avg       0.61      0.49      0.53    181772\n",
            "weighted avg       0.97      0.97      0.97    181772\n",
            "\n"
          ]
        },
        {
          "output_type": "stream",
          "name": "stderr",
          "text": [
            "/usr/local/lib/python3.11/dist-packages/sklearn/metrics/_classification.py:1565: UndefinedMetricWarning: Precision is ill-defined and being set to 0.0 in labels with no predicted samples. Use `zero_division` parameter to control this behavior.\n",
            "  _warn_prf(average, modifier, f\"{metric.capitalize()} is\", len(result))\n",
            "/usr/local/lib/python3.11/dist-packages/sklearn/metrics/_classification.py:1565: UndefinedMetricWarning: Precision is ill-defined and being set to 0.0 in labels with no predicted samples. Use `zero_division` parameter to control this behavior.\n",
            "  _warn_prf(average, modifier, f\"{metric.capitalize()} is\", len(result))\n",
            "/usr/local/lib/python3.11/dist-packages/sklearn/metrics/_classification.py:1565: UndefinedMetricWarning: Precision is ill-defined and being set to 0.0 in labels with no predicted samples. Use `zero_division` parameter to control this behavior.\n",
            "  _warn_prf(average, modifier, f\"{metric.capitalize()} is\", len(result))\n",
            "/usr/local/lib/python3.11/dist-packages/sklearn/metrics/_classification.py:1565: UndefinedMetricWarning: Precision is ill-defined and being set to 0.0 in labels with no predicted samples. Use `zero_division` parameter to control this behavior.\n",
            "  _warn_prf(average, modifier, f\"{metric.capitalize()} is\", len(result))\n"
          ]
        }
      ]
    },
    {
      "cell_type": "markdown",
      "source": [
        "**Visualize Model**"
      ],
      "metadata": {
        "id": "ulGLsHinEzMj"
      }
    },
    {
      "cell_type": "code",
      "source": [
        "# Plot the resultsl\n",
        "y_pred = model.predict(X_train)\n",
        "plot_viz_wide(3, history, y_pred, y_train)\n"
      ],
      "metadata": {
        "id": "1NnRjcJDEx_l",
        "colab": {
          "base_uri": "https://localhost:8080/",
          "height": 324
        },
        "outputId": "41472699-8c6b-4874-bcd5-069f11236deb"
      },
      "execution_count": 46,
      "outputs": [
        {
          "output_type": "stream",
          "name": "stdout",
          "text": [
            "\u001b[1m5681/5681\u001b[0m \u001b[32m━━━━━━━━━━━━━━━━━━━━\u001b[0m\u001b[37m\u001b[0m \u001b[1m5s\u001b[0m 797us/step\n"
          ]
        },
        {
          "output_type": "display_data",
          "data": {
            "text/plain": [
              "<Figure size 700x300 with 3 Axes>"
            ],
            "image/png": "[encoded data removed]"
          },
          "metadata": {}
        }
      ]
    },
    {
      "cell_type": "markdown",
      "metadata": {
        "id": "JjDpesOL3N8f"
      },
      "source": [
        "###ANN MODEL"
      ]
    },
    {
      "cell_type": "code",
      "execution_count": 47,
      "metadata": {
        "id": "I_liTBf9RzGa",
        "collapsed": true,
        "colab": {
          "base_uri": "https://localhost:8080/"
        },
        "outputId": "4458cf27-7e1d-4f0d-fa6c-c71da15d67c1"
      },
      "outputs": [
        {
          "output_type": "stream",
          "name": "stdout",
          "text": [
            "Epoch 1/5\n"
          ]
        },
        {
          "output_type": "stream",
          "name": "stderr",
          "text": [
            "/usr/local/lib/python3.11/dist-packages/keras/src/layers/core/dense.py:87: UserWarning: Do not pass an `input_shape`/`input_dim` argument to a layer. When using Sequential models, prefer using an `Input(shape)` object as the first layer in the model instead.\n",
            "  super().__init__(activity_regularizer=activity_regularizer, **kwargs)\n"
          ]
        },
        {
          "output_type": "stream",
          "name": "stdout",
          "text": [
            "\u001b[1m4545/4545\u001b[0m \u001b[32m━━━━━━━━━━━━━━━━━━━━\u001b[0m\u001b[37m\u001b[0m \u001b[1m10s\u001b[0m 2ms/step - accuracy: 0.9157 - loss: 0.4812 - val_accuracy: 0.9690 - val_loss: 0.1046\n",
            "Epoch 2/5\n",
            "\u001b[1m4545/4545\u001b[0m \u001b[32m━━━━━━━━━━━━━━━━━━━━\u001b[0m\u001b[37m\u001b[0m \u001b[1m7s\u001b[0m 2ms/step - accuracy: 0.9697 - loss: 0.1148 - val_accuracy: 0.9735 - val_loss: 0.1146\n",
            "Epoch 3/5\n",
            "\u001b[1m4545/4545\u001b[0m \u001b[32m━━━━━━━━━━━━━━━━━━━━\u001b[0m\u001b[37m\u001b[0m \u001b[1m8s\u001b[0m 2ms/step - accuracy: 0.9820 - loss: 0.0734 - val_accuracy: 0.9849 - val_loss: 0.0475\n",
            "Epoch 4/5\n",
            "\u001b[1m4545/4545\u001b[0m \u001b[32m━━━━━━━━━━━━━━━━━━━━\u001b[0m\u001b[37m\u001b[0m \u001b[1m9s\u001b[0m 2ms/step - accuracy: 0.9850 - loss: 0.0618 - val_accuracy: 0.9876 - val_loss: 0.0417\n",
            "Epoch 5/5\n",
            "\u001b[1m4545/4545\u001b[0m \u001b[32m━━━━━━━━━━━━━━━━━━━━\u001b[0m\u001b[37m\u001b[0m \u001b[1m8s\u001b[0m 1ms/step - accuracy: 0.9887 - loss: 0.0461 - val_accuracy: 0.9901 - val_loss: 0.0356\n"
          ]
        }
      ],
      "source": [
        "import tensorflow as tf\n",
        "from tensorflow.keras.models import Sequential\n",
        "from tensorflow.keras.layers import Dense\n",
        "\n",
        "# Assuming your preprocessed data is stored in X_train, y_train, X_test, y_test\n",
        "\n",
        "# Build the ANN model\n",
        "model = Sequential()\n",
        "model.add(Dense(64, input_dim=X_train.shape[1], activation='relu'))  # Input layer with 64 neurons\n",
        "model.add(Dense(32, activation='relu'))  # Hidden layer with 32 neurons\n",
        "model.add(Dense(16, activation='relu'))  # Another hidden layer with 16 neurons\n",
        "model.add(Dense(y_train.shape[1], activation='softmax'))  # Output layer with 1 neuron for binary classification\n",
        "\n",
        "# Compile the model\n",
        "model.compile(optimizer='adam', loss='categorical_crossentropy', metrics=['accuracy'])\n",
        "\n",
        "# Train the model\n",
        "history = model.fit(X_train, y_train, epochs=5, batch_size=32, validation_split=0.2)\n"
      ]
    },
    {
      "cell_type": "code",
      "execution_count": 48,
      "metadata": {
        "id": "Xuac0LXkKbic",
        "colab": {
          "base_uri": "https://localhost:8080/"
        },
        "outputId": "a696b055-12f9-4542-927e-8c0fbe0252f7"
      },
      "outputs": [
        {
          "output_type": "stream",
          "name": "stdout",
          "text": [
            "\u001b[1m1421/1421\u001b[0m \u001b[32m━━━━━━━━━━━━━━━━━━━━\u001b[0m\u001b[37m\u001b[0m \u001b[1m1s\u001b[0m 1ms/step - accuracy: 0.9894 - loss: 0.0384  \n",
            "Test Accuracy: 0.9893712997436523\n",
            "\u001b[1m5681/5681\u001b[0m \u001b[32m━━━━━━━━━━━━━━━━━━━━\u001b[0m\u001b[37m\u001b[0m \u001b[1m5s\u001b[0m 839us/step\n",
            "Model evaluation - Loss: 0.03428791090846062, Accuracy: 0.9903230667114258\n",
            "precision = 0.9983035549407536\n",
            "recall = 0.9423065524941087\n",
            "Confusion matrix on training data:\n",
            "- x-axis is true labels.\n",
            "- y-axis is predicted labels\n",
            "      0      1     2   3    4   5   6    7   8    9       10\n",
            "0   4478    185     0   0    0   0   0    0   0    0      81\n",
            "1      0  60664     0   0    0   0   0    0   0    0    1250\n",
            "2      0      0  2848   0    0   0   0    0   0    0       0\n",
            "3      0      0     0  24    0   0   0    0   0    0       0\n",
            "4      0     99     0   0  995   0   0    0   0    0      33\n",
            "5      0      0     0   0    0  67   0    0   0    0       0\n",
            "6      0      0     0   0    0   0  12    0   0    0       0\n",
            "7      0     55     0   0    0   0   0  171   0    0       0\n",
            "8      0      0     0   0    0   0   0    0  12    0       0\n",
            "9      0     56     0   0    0   0   0    0   0  227       0\n",
            "10     0      0     0   0    0   0   0    0   0    0  110515\n",
            " \n",
            "              precision    recall  f1-score   support\n",
            "\n",
            "           0       1.00      0.94      0.97      4744\n",
            "           1       0.99      0.98      0.99     61914\n",
            "           2       1.00      1.00      1.00      2848\n",
            "           3       1.00      1.00      1.00        24\n",
            "           4       1.00      0.88      0.94      1127\n",
            "           5       1.00      1.00      1.00        67\n",
            "           6       1.00      1.00      1.00        12\n",
            "           7       1.00      0.76      0.86       226\n",
            "           8       1.00      1.00      1.00        12\n",
            "           9       1.00      0.80      0.89       283\n",
            "          10       0.99      1.00      0.99    110515\n",
            "\n",
            "    accuracy                           0.99    181772\n",
            "   macro avg       1.00      0.94      0.97    181772\n",
            "weighted avg       0.99      0.99      0.99    181772\n",
            "\n"
          ]
        }
      ],
      "source": [
        "# Evaluate the model\n",
        "ANN_loss, ANN_accuracy = model.evaluate(X_test, y_test)\n",
        "print(f'Test Accuracy: {ANN_accuracy}')\n",
        "\n",
        "# output model metrics\n",
        "eval_model(X_train, y_train)"
      ]
    },
    {
      "cell_type": "code",
      "source": [
        "# Plot the resultsl\n",
        "y_pred = model.predict(X_train)\n",
        "plot_viz_wide(3, history, y_pred, y_train)\n"
      ],
      "metadata": {
        "id": "ciw1TLF3vwSD",
        "colab": {
          "base_uri": "https://localhost:8080/",
          "height": 324
        },
        "outputId": "cc0e2dfa-1869-43ad-bb1d-2efbd74af40f"
      },
      "execution_count": 49,
      "outputs": [
        {
          "output_type": "stream",
          "name": "stdout",
          "text": [
            "\u001b[1m5681/5681\u001b[0m \u001b[32m━━━━━━━━━━━━━━━━━━━━\u001b[0m\u001b[37m\u001b[0m \u001b[1m4s\u001b[0m 743us/step\n"
          ]
        },
        {
          "output_type": "display_data",
          "data": {
            "text/plain": [
              "<Figure size 700x300 with 3 Axes>"
            ],
            "image/png": "[encoded data removed]"
          },
          "metadata": {}
        }
      ]
    },
    {
      "cell_type": "markdown",
      "source": [
        "###Multilayer Perceptron"
      ],
      "metadata": {
        "id": "YssCiU4ijsTs"
      }
    },
    {
      "cell_type": "code",
      "source": [
        "# MLP\n",
        "from sklearn.neural_network import MLPClassifier\n",
        "clf = MLPClassifier(solver='lbfgs', alpha=1e-5,\n",
        "                    hidden_layer_sizes=(8, 2), random_state=1)\n",
        "history = clf.fit(X_train, y_train)\n",
        "# Evaluate the model\n",
        "# OVR doesn't expose model.evaluate so have to use just accuracy on predictions\n",
        "y_pred = (clf.predict(X_test) > 0.5).astype(int)\n",
        "# output model metrics\n",
        "eval_model(X_train, y_train)"
      ],
      "metadata": {
        "id": "hM1S25HSgOrb",
        "colab": {
          "base_uri": "https://localhost:8080/"
        },
        "outputId": "d7f37fa9-6a83-400e-8a0c-a75299a03e88"
      },
      "execution_count": 50,
      "outputs": [
        {
          "output_type": "stream",
          "name": "stdout",
          "text": [
            "\u001b[1m5681/5681\u001b[0m \u001b[32m━━━━━━━━━━━━━━━━━━━━\u001b[0m\u001b[37m\u001b[0m \u001b[1m4s\u001b[0m 761us/step\n",
            "Model evaluation - Loss: 0.03428791090846062, Accuracy: 0.9903230667114258\n",
            "precision = 0.9983035549407536\n",
            "recall = 0.9423065524941087\n",
            "Confusion matrix on training data:\n",
            "- x-axis is true labels.\n",
            "- y-axis is predicted labels\n",
            "      0      1     2   3    4   5   6    7   8    9       10\n",
            "0   4478    185     0   0    0   0   0    0   0    0      81\n",
            "1      0  60664     0   0    0   0   0    0   0    0    1250\n",
            "2      0      0  2848   0    0   0   0    0   0    0       0\n",
            "3      0      0     0  24    0   0   0    0   0    0       0\n",
            "4      0     99     0   0  995   0   0    0   0    0      33\n",
            "5      0      0     0   0    0  67   0    0   0    0       0\n",
            "6      0      0     0   0    0   0  12    0   0    0       0\n",
            "7      0     55     0   0    0   0   0  171   0    0       0\n",
            "8      0      0     0   0    0   0   0    0  12    0       0\n",
            "9      0     56     0   0    0   0   0    0   0  227       0\n",
            "10     0      0     0   0    0   0   0    0   0    0  110515\n",
            " \n",
            "              precision    recall  f1-score   support\n",
            "\n",
            "           0       1.00      0.94      0.97      4744\n",
            "           1       0.99      0.98      0.99     61914\n",
            "           2       1.00      1.00      1.00      2848\n",
            "           3       1.00      1.00      1.00        24\n",
            "           4       1.00      0.88      0.94      1127\n",
            "           5       1.00      1.00      1.00        67\n",
            "           6       1.00      1.00      1.00        12\n",
            "           7       1.00      0.76      0.86       226\n",
            "           8       1.00      1.00      1.00        12\n",
            "           9       1.00      0.80      0.89       283\n",
            "          10       0.99      1.00      0.99    110515\n",
            "\n",
            "    accuracy                           0.99    181772\n",
            "   macro avg       1.00      0.94      0.97    181772\n",
            "weighted avg       0.99      0.99      0.99    181772\n",
            "\n"
          ]
        }
      ]
    },
    {
      "cell_type": "markdown",
      "source": [
        "**Since we know there's a large class imbalance, try upsampling**"
      ],
      "metadata": {
        "id": "EFVOV6XdGV6w"
      }
    },
    {
      "cell_type": "code",
      "source": [
        "from imblearn.over_sampling import RandomOverSampler\n",
        "from sklearn.model_selection import cross_val_score\n",
        "# Apply upsampling\n",
        "oversampler = RandomOverSampler(random_state=42)\n",
        "X_train_resampled, y_train_resampled = oversampler.fit_resample(X_train, y_train)\n",
        "X_test_resampled, y_test_resampled = oversampler.fit_resample(X_test, y_test)\n",
        "\n",
        "# Train a model\n",
        "clf = MLPClassifier(solver='lbfgs', alpha=1e-4,\n",
        "                    hidden_layer_sizes=(8, 2), random_state=1)\n",
        "history = clf.fit(X_train_resampled, y_train_resampled)\n",
        "\n",
        "eval_model(X_test_resampled, y_test_resampled)\n"
      ],
      "metadata": {
        "id": "FI183OZmkahq",
        "colab": {
          "base_uri": "https://localhost:8080/"
        },
        "outputId": "2ee0a374-8aa7-4a22-f0ab-4ad1f9b86775"
      },
      "execution_count": 51,
      "outputs": [
        {
          "output_type": "stream",
          "name": "stdout",
          "text": [
            "\u001b[1m9473/9473\u001b[0m \u001b[32m━━━━━━━━━━━━━━━━━━━━\u001b[0m\u001b[37m\u001b[0m \u001b[1m7s\u001b[0m 757us/step\n",
            "Model evaluation - Loss: 0.25492244958877563, Accuracy: 0.9427170753479004\n",
            "precision = 0.9609744515248102\n",
            "recall = 0.9427170789800975\n",
            "Confusion matrix on training data:\n",
            "- x-axis is true labels.\n",
            "- y-axis is predicted labels\n",
            "       0      1      2      3      4      5      6      7      8      9   \\\n",
            "0   26032   1153      0      0      0      0      0      0      0      0   \n",
            "1       0  26915      0      0      0      0      0      0      0      0   \n",
            "2       0      0  27557      0      0      0      0      0      0      0   \n",
            "3       0      0      0  27557      0      0      0      0      0      0   \n",
            "4       0   2532      0      0  24146      0      0      0      0      0   \n",
            "5       0      0      0      0      0  27557      0      0      0      0   \n",
            "6       0      0      0      0      0      0  27557      0      0      0   \n",
            "7       0   6038      0      0      0      0      0  21519      0      0   \n",
            "8       0      0      0      0      0      0      0      0  27557      0   \n",
            "9       0   5748      0      0      0      0      0      0      0  21809   \n",
            "10      0      0      0      0      0      0      0      0      0      0   \n",
            "\n",
            "       10  \n",
            "0     372  \n",
            "1     642  \n",
            "2       0  \n",
            "3       0  \n",
            "4     879  \n",
            "5       0  \n",
            "6       0  \n",
            "7       0  \n",
            "8       0  \n",
            "9       0  \n",
            "10  27557  \n",
            " \n",
            "              precision    recall  f1-score   support\n",
            "\n",
            "           0       1.00      0.94      0.97     27557\n",
            "           1       0.63      0.98      0.77     27557\n",
            "           2       1.00      1.00      1.00     27557\n",
            "           3       1.00      1.00      1.00     27557\n",
            "           4       1.00      0.88      0.93     27557\n",
            "           5       1.00      1.00      1.00     27557\n",
            "           6       1.00      1.00      1.00     27557\n",
            "           7       1.00      0.78      0.88     27557\n",
            "           8       1.00      1.00      1.00     27557\n",
            "           9       1.00      0.79      0.88     27557\n",
            "          10       0.94      1.00      0.97     27557\n",
            "\n",
            "    accuracy                           0.94    303127\n",
            "   macro avg       0.96      0.94      0.95    303127\n",
            "weighted avg       0.96      0.94      0.95    303127\n",
            "\n"
          ]
        }
      ]
    },
    {
      "cell_type": "markdown",
      "source": [
        "Upsampling wasn't markedly better as some of our models performed quite well, but it did make a nice clean confusion matrix."
      ],
      "metadata": {
        "id": "xI2-oJS9zvqT"
      }
    },
    {
      "cell_type": "markdown",
      "source": [
        "###Logistic Regression\n",
        "\n",
        "We produce a basic Logistic Regression model for comparison to our neural networks"
      ],
      "metadata": {
        "id": "UnHEkEiT5EaQ"
      }
    },
    {
      "cell_type": "code",
      "source": [
        "from sklearn.linear_model import LogisticRegression\n",
        "from sklearn.multiclass import OneVsRestClassifier\n",
        "from sklearn.metrics import accuracy_score, classification_report, confusion_matrix\n",
        "\n",
        "\n",
        "# Create a logistic regression model based on an OVR classifier\n",
        "model = OneVsRestClassifier(LogisticRegression())\n",
        "\n",
        "# Train the model\n",
        "model.fit(X_train, y_train)\n",
        "\n",
        "# Evaluate the model\n",
        "# OVR doesn't expose model.evaluate so have to use just accuracy on predictions\n",
        "y_pred = model.predict(X_test)\n",
        "LR_accuracy = accuracy_score(y_test, y_pred)\n",
        "\n"
      ],
      "metadata": {
        "id": "M1gJHy3g4xiF",
        "colab": {
          "base_uri": "https://localhost:8080/"
        },
        "outputId": "c8b7c6ad-bc5e-4d66-f7fd-10e8e71d619c"
      },
      "execution_count": 52,
      "outputs": [
        {
          "output_type": "stream",
          "name": "stderr",
          "text": [
            "/usr/local/lib/python3.11/dist-packages/sklearn/linear_model/_logistic.py:465: ConvergenceWarning: lbfgs failed to converge (status=1):\n",
            "STOP: TOTAL NO. of ITERATIONS REACHED LIMIT.\n",
            "\n",
            "Increase the number of iterations (max_iter) or scale the data as shown in:\n",
            "    https://scikit-learn.org/stable/modules/preprocessing.html\n",
            "Please also refer to the documentation for alternative solver options:\n",
            "    https://scikit-learn.org/stable/modules/linear_model.html#logistic-regression\n",
            "  n_iter_i = _check_optimize_result(\n",
            "/usr/local/lib/python3.11/dist-packages/sklearn/linear_model/_logistic.py:465: ConvergenceWarning: lbfgs failed to converge (status=1):\n",
            "STOP: TOTAL NO. of ITERATIONS REACHED LIMIT.\n",
            "\n",
            "Increase the number of iterations (max_iter) or scale the data as shown in:\n",
            "    https://scikit-learn.org/stable/modules/preprocessing.html\n",
            "Please also refer to the documentation for alternative solver options:\n",
            "    https://scikit-learn.org/stable/modules/linear_model.html#logistic-regression\n",
            "  n_iter_i = _check_optimize_result(\n",
            "/usr/local/lib/python3.11/dist-packages/sklearn/linear_model/_logistic.py:465: ConvergenceWarning: lbfgs failed to converge (status=1):\n",
            "STOP: TOTAL NO. of ITERATIONS REACHED LIMIT.\n",
            "\n",
            "Increase the number of iterations (max_iter) or scale the data as shown in:\n",
            "    https://scikit-learn.org/stable/modules/preprocessing.html\n",
            "Please also refer to the documentation for alternative solver options:\n",
            "    https://scikit-learn.org/stable/modules/linear_model.html#logistic-regression\n",
            "  n_iter_i = _check_optimize_result(\n"
          ]
        }
      ]
    },
    {
      "cell_type": "code",
      "source": [
        "from tensorflow.keras.models import Sequential\n",
        "from tensorflow.keras.layers import Dense, Dropout, Input, Conv1D\n",
        "from tensorflow.keras.optimizers import Adam\n",
        "from keras.layers import Dense, Conv1D\n",
        "import tensorflow as tf\n",
        "from tensorflow.keras.models import Sequential\n",
        "from tensorflow.keras.layers import Dense, Flatten\n",
        "\n",
        "# Assuming your preprocessed data is stored in X_train, y_train, X_test, y_test\n",
        "features_count = len(X_train.columns)\n",
        "\n",
        "# Build the ANN model\n",
        "model = Sequential()\n",
        "model.add(Conv1D(filters=512, kernel_size=5, padding='same', activation='relu', input_shape=(1,features_count)))\n",
        "model.add(Flatten())\n",
        "model.add(Dense(64, input_dim=X_train.shape[1], activation='relu'))  # Input layer with 64 neurons\n",
        "model.add(Dropout(0.2))\n",
        "model.add(Dense(32, activation='relu'))  # Hidden layer with 32 neurons\n",
        "model.add(Dense(16, activation='relu'))  # Another hidden layer with 16 neurons\n",
        "model.add(Dense(y_train.shape[1], activation='softmax'))  # Output layer with 1 neuron for binary classification\n",
        "\n",
        "# Compile the model\n",
        "model.compile(optimizer='adam', loss='categorical_crossentropy', metrics=['accuracy'])\n",
        "\n",
        "\n",
        "# Train the model and save the history\n",
        "X_train_shaped = X_train.to_numpy().reshape(X_train.shape[0], 1, X_train.shape[1])\n",
        "X_test_shaped = X_test.to_numpy().reshape(X_test.shape[0], 1, X_test.shape[1])\n",
        "# Train the model\n",
        "\n",
        "model.compile(optimizer=\"adam\", loss='mse')\n",
        "history = model.fit(X_train_shaped, y_train, epochs=5, batch_size=32, validation_split=0.2, callbacks=[early_stopping, reduce_lr])\n",
        "# OVR doesn't expose model.evaluate so have to use just accuracy on predictions\n",
        "y_pred = model.predict(X_test_shaped) #(model.predict(X_test_shaped) > 0.5).astype(int)\n",
        "# output model metrics\n",
        "# Assuming y_pred contains probabilities or continuous scores:\n",
        "y_pred_binary = (y_pred > 0.5).astype(int)\n",
        "print(accuracy_score(y_test, y_pred_binary))\n"
      ],
      "metadata": {
        "id": "D9T5GLhb7SBb",
        "colab": {
          "base_uri": "https://localhost:8080/"
        },
        "outputId": "f316d399-2e24-4a49-c493-05fe54db7e5b"
      },
      "execution_count": 53,
      "outputs": [
        {
          "output_type": "stream",
          "name": "stdout",
          "text": [
            "Epoch 1/5\n"
          ]
        },
        {
          "output_type": "stream",
          "name": "stderr",
          "text": [
            "/usr/local/lib/python3.11/dist-packages/keras/src/layers/convolutional/base_conv.py:107: UserWarning: Do not pass an `input_shape`/`input_dim` argument to a layer. When using Sequential models, prefer using an `Input(shape)` object as the first layer in the model instead.\n",
            "  super().__init__(activity_regularizer=activity_regularizer, **kwargs)\n",
            "/usr/local/lib/python3.11/dist-packages/keras/src/layers/core/dense.py:87: UserWarning: Do not pass an `input_shape`/`input_dim` argument to a layer. When using Sequential models, prefer using an `Input(shape)` object as the first layer in the model instead.\n",
            "  super().__init__(activity_regularizer=activity_regularizer, **kwargs)\n"
          ]
        },
        {
          "output_type": "stream",
          "name": "stdout",
          "text": [
            "\u001b[1m4545/4545\u001b[0m \u001b[32m━━━━━━━━━━━━━━━━━━━━\u001b[0m\u001b[37m\u001b[0m \u001b[1m16s\u001b[0m 3ms/step - accuracy: 0.9150 - loss: 0.0134 - val_accuracy: 0.9671 - val_loss: 0.0055 - learning_rate: 0.0010\n",
            "Epoch 2/5\n",
            "\u001b[1m4545/4545\u001b[0m \u001b[32m━━━━━━━━━━━━━━━━━━━━\u001b[0m\u001b[37m\u001b[0m \u001b[1m15s\u001b[0m 3ms/step - accuracy: 0.9603 - loss: 0.0069 - val_accuracy: 0.9770 - val_loss: 0.0037 - learning_rate: 0.0010\n",
            "Epoch 3/5\n",
            "\u001b[1m4545/4545\u001b[0m \u001b[32m━━━━━━━━━━━━━━━━━━━━\u001b[0m\u001b[37m\u001b[0m \u001b[1m14s\u001b[0m 3ms/step - accuracy: 0.9607 - loss: 0.0069 - val_accuracy: 0.9580 - val_loss: 0.0075 - learning_rate: 0.0010\n",
            "Epoch 4/5\n",
            "\u001b[1m4545/4545\u001b[0m \u001b[32m━━━━━━━━━━━━━━━━━━━━\u001b[0m\u001b[37m\u001b[0m \u001b[1m21s\u001b[0m 3ms/step - accuracy: 0.9601 - loss: 0.0071 - val_accuracy: 0.9664 - val_loss: 0.0060 - learning_rate: 0.0010\n",
            "Epoch 5/5\n",
            "\u001b[1m4545/4545\u001b[0m \u001b[32m━━━━━━━━━━━━━━━━━━━━\u001b[0m\u001b[37m\u001b[0m \u001b[1m13s\u001b[0m 3ms/step - accuracy: 0.9656 - loss: 0.0061 - val_accuracy: 0.9710 - val_loss: 0.0052 - learning_rate: 0.0010\n",
            "\u001b[1m1421/1421\u001b[0m \u001b[32m━━━━━━━━━━━━━━━━━━━━\u001b[0m\u001b[37m\u001b[0m \u001b[1m2s\u001b[0m 1ms/step\n",
            "0.9760139075325133\n"
          ]
        }
      ]
    },
    {
      "cell_type": "markdown",
      "source": [
        "**Plot the LR Results for Comparison**"
      ],
      "metadata": {
        "id": "LGD2A0E-J0kF"
      }
    },
    {
      "cell_type": "code",
      "source": [
        "# Plot the resultsl\n",
        "y_pred = model.predict(X_train_shaped)\n",
        "plot_viz_wide(3, history, y_pred, y_train)\n"
      ],
      "metadata": {
        "id": "AdtUILwKJbdl",
        "colab": {
          "base_uri": "https://localhost:8080/",
          "height": 324
        },
        "outputId": "91712c55-4473-4e8c-c26e-2f1a7bea0238"
      },
      "execution_count": 54,
      "outputs": [
        {
          "output_type": "stream",
          "name": "stdout",
          "text": [
            "\u001b[1m5681/5681\u001b[0m \u001b[32m━━━━━━━━━━━━━━━━━━━━\u001b[0m\u001b[37m\u001b[0m \u001b[1m6s\u001b[0m 1ms/step\n"
          ]
        },
        {
          "output_type": "display_data",
          "data": {
            "text/plain": [
              "<Figure size 700x300 with 3 Axes>"
            ],
            "image/png": "[encoded data removed]"
          },
          "metadata": {}
        }
      ]
    },
    {
      "cell_type": "markdown",
      "source": [
        "The logistic regression did very well but not as well as our neural networks. It's likely this is due to the neural networks' ability to more accurately model non-linear and higher-order relationships."
      ],
      "metadata": {
        "id": "dN7_nqgIJ6YW"
      }
    },
    {
      "cell_type": "markdown",
      "source": [
        "###Keras-TCN\n",
        "\n",
        "We attempted to implement Keras-TCN"
      ],
      "metadata": {
        "id": "3SrSCSWVSUwc"
      }
    },
    {
      "cell_type": "code",
      "source": [
        "'''\n",
        "!pip install -q keras-tcn --no-dependencies\n",
        "from tcn import TCN, tcn_full_summary\n",
        "from sklearn.model_selection import KFold\n",
        "from tensorflow.keras.preprocessing.sequence import pad_sequences\n",
        "\n",
        "n_epochs = 10\n",
        "n_splits =  5\n",
        "n_features = X_train.shape[-1]\n",
        "\n",
        "kf = KFold(n_splits=n_splits, shuffle=False)\n",
        "test_preds = []\n",
        "\n",
        "model = Sequential([\n",
        "    # Here is the Temporal Convolutional Network (TCN):\n",
        "    TCN(input_shape=(1,features_count), nb_filters=128, return_sequences=True, dilations=[1, 2, 4, 8, 16, 32]),\n",
        "    Flatten(),\n",
        "    Dense(64, activation='relu'),\n",
        "    Dropout(0.2),\n",
        "    Dense(50, activation='selu'),\n",
        "    Dense(1),\n",
        "])\n",
        "\n",
        "model.compile(\n",
        "    optimizer=\"adam\",\n",
        "    loss=\"mae\",\n",
        "    metrics=[\"accuracy\"]\n",
        ")\n",
        "num_samples = X_train.shape[0]\n",
        "train_data = X_train.to_numpy()[:num_samples].reshape(-1, 1, 13)\n",
        "test_data = X_test.to_numpy()[:X_test.shape[0]].reshape(-1, 1, 13)\n",
        "\n",
        "print(model.input_shape)\n",
        "history = model.fit(\n",
        "    X_train_shaped, y_train,\n",
        "    validation_data=(X_test_shaped, y_test),\n",
        "    epochs=n_epochs,\n",
        "    batch_size=1024,\n",
        "    callbacks=[early_stopping, reduce_lr]\n",
        ")\n",
        "'''"
      ],
      "metadata": {
        "id": "ZzR5s481STh9",
        "colab": {
          "base_uri": "https://localhost:8080/",
          "height": 123
        },
        "outputId": "2d77b584-62fb-4fdf-b3fb-c661e9add355"
      },
      "execution_count": 55,
      "outputs": [
        {
          "output_type": "execute_result",
          "data": {
            "text/plain": [
              "'\\n!pip install -q keras-tcn --no-dependencies\\nfrom tcn import TCN, tcn_full_summary\\nfrom sklearn.model_selection import KFold\\nfrom tensorflow.keras.preprocessing.sequence import pad_sequences\\n\\nn_epochs = 10\\nn_splits =  5\\nn_features = X_train.shape[-1]\\n\\nkf = KFold(n_splits=n_splits, shuffle=False)\\ntest_preds = []\\n\\nmodel = Sequential([\\n    # Here is the Temporal Convolutional Network (TCN):\\n    TCN(input_shape=(1,features_count), nb_filters=128, return_sequences=True, dilations=[1, 2, 4, 8, 16, 32]),\\n    Flatten(),\\n    Dense(64, activation=\\'relu\\'),\\n    Dropout(0.2),\\n    Dense(50, activation=\\'selu\\'),\\n    Dense(1),\\n])\\n\\nmodel.compile(\\n    optimizer=\"adam\",\\n    loss=\"mae\",\\n    metrics=[\"accuracy\"]\\n)\\nnum_samples = X_train.shape[0]\\ntrain_data = X_train.to_numpy()[:num_samples].reshape(-1, 1, 13)\\ntest_data = X_test.to_numpy()[:X_test.shape[0]].reshape(-1, 1, 13)\\n\\nprint(model.input_shape)\\nhistory = model.fit(\\n    X_train_shaped, y_train,\\n    validation_data=(X_test_shaped, y_test),\\n    epochs=n_epochs,\\n    batch_size=1024,\\n    callbacks=[early_stopping, reduce_lr]\\n)\\n'"
            ],
            "application/vnd.google.colaboratory.intrinsic+json": {
              "type": "string"
            }
          },
          "metadata": {},
          "execution_count": 55
        }
      ]
    },
    {
      "cell_type": "code",
      "source": [
        "#y_pred = model.predict(test_data) #(model.predict(X_test_shaped) > 0.5).astype(int)\n",
        "#y_pred_binary = (abs(y_pred) > 0.5).astype(int)\n",
        "#print(accuracy_score(y_test, y_pred_binary))"
      ],
      "metadata": {
        "id": "mtRw2WGGUfSg"
      },
      "execution_count": 56,
      "outputs": []
    },
    {
      "cell_type": "markdown",
      "source": [
        "**Summary**"
      ],
      "metadata": {
        "id": "3h8UHwld3cIn"
      }
    },
    {
      "cell_type": "code",
      "execution_count": 57,
      "metadata": {
        "id": "xkDCBONpKbfC",
        "colab": {
          "base_uri": "https://localhost:8080/"
        },
        "outputId": "b43eae55-938e-4740-8188-4c9903981fe5"
      },
      "outputs": [
        {
          "output_type": "stream",
          "name": "stdout",
          "text": [
            "Tuned ANN loss: 7.555850028991699, accuracy: 0.6256904006004333\n",
            "LSTM loss: 0.04604148864746094, accuracy: 0.9881830215454102\n",
            "GRNN loss: 0.1348871886730194, accuracy: 0.9712386727333069\n",
            "ANN loss: 0.03789432719349861, accuracy: 0.9893712997436523\n",
            "LR accuracy: 0.9684439847721321\n"
          ]
        }
      ],
      "source": [
        "print(f\"Tuned ANN loss: {tuned_ann_score[0]}, accuracy: {tuned_ann_score[1]}\")\n",
        "print(f\"LSTM loss: {LSTM_score[0]}, accuracy: {LSTM_score[1]}\")\n",
        "print(f\"GRNN loss: {grnn_score[0]}, accuracy: {grnn_score[1]}\")\n",
        "print(f\"ANN loss: {ANN_loss}, accuracy: {ANN_accuracy}\")\n",
        "print(f\"LR accuracy: {LR_accuracy}\")"
      ]
    },
    {
      "cell_type": "markdown",
      "source": [
        "**Follow-up and Refinement Opportunities**"
      ],
      "metadata": {
        "id": "oBiWcXPj6rAU"
      }
    },
    {
      "cell_type": "markdown",
      "source": [
        "We did extensive pre-processing and analysis, most of which was not included in this notebook.  Our focus here was to get data of reasonable quality to explore methods of building and measuring deep learning models and techniques.  We would continue to refine these models by:\n",
        "\n",
        "\n",
        "1.   Performing thorough feature selection and dimensionality reduction\n",
        "2.   Perform deeper analysis to identify and reduce outlier impact on models\n",
        "3.   Explore ensemble and cross validation methods specific to neural networks\n",
        "\n"
      ],
      "metadata": {
        "id": "cSex73cd6zPu"
      }
    },
    {
      "cell_type": "markdown",
      "source": [
        "##Literature Review\n",
        "\n",
        "Works reviewed:\n",
        "\n",
        "\n",
        "\n",
        "Bird, J. J., Barnes, C. M., Premebida, C., Ekárt, A., & Faria, D. R. (2020). Country-level pandemic risk and preparedness classification based on COVID-19 data: A machine learning approach. PLoS ONE, 15(10), e0241332.\n",
        "\n",
        "Chin, V., Ioannou, B., Marchant, R., Samia, N. I., & Colijn, C. (2020). CoronaTracker: worldwide COVID-19 outbreak data analysis and prediction. Bulletin of the World Health Organization, 1-32.\n",
        "\n",
        "Chin, V., Samia, N. I., Marchant, R., Rosen, O., Ioannou, B., Britton, T., ... & Colijn, C. (2020). A case study in model failure? COVID-19 daily deaths and ICU bed utilisation predictions in New York State. medRxiv.\n",
        "\n",
        "Franceschini, L. (2024, April). The World Factbook by CIA (Version 4). Kaggle. Retrieved January 29, 2025, from https://www.kaggle.com/datasets/lucafrance/the-world-factbook-by-cia\n",
        "\n",
        "Gal, Y., & Ghahramani, Z. (2016). Dropout as a Bayesian approximation: Representing model uncertainty in deep learning. International Conference on Machine Learning (ICML). Retrieved from https://arxiv.org/abs/1506.02142\n",
        "\n",
        "Giordano, D. (2022). SARS-CoV-2-Variants [GitHub repository]. GitHub. Retrieved from https://github.com/3dgiordano/SARS-CoV-2-Variants\n",
        "\n",
        "Karthikeyan, A., Garg, A., Vinod, P. K., & Priyakumar, U. D. (2022). Generalizable prediction of COVID-19 mortality on worldwide patient data. JAMIA Open, 5(2), ooac036.\n",
        "\n",
        "Kipf, T. N., & Welling, M. (2017). Semi-supervised classification with graph convolutional networks. International Conference on Learning Representations (ICLR). Retrieved from https://arxiv.org/abs/1609.02907\n",
        "\n",
        "Mollalo, A., Rivera, K. M., & Vahedi, B. (2020). Artificial Neural Network Modeling of Novel Coronavirus (COVID-19) Incidence Rates across the Continental United States. International Journal of Environmental Research and Public Health, 17(12), 4204.\n",
        "\n",
        "Neal, R. M. (2012). Bayesian learning for neural networks. Springer Science & Business Media.\n",
        "\n",
        "Sarmiento Varón L, González-Puelma J, Medina-Ortiz D, Aldridge J, Alvarez-Saravia D, Uribe-Paredes R, Navarrete MA. The role of machine learning in health policies during the COVID-19 pandemic and in long COVID management. Front Public Health. 2023 Apr 11;11:1140353. doi: 10.3389/fpubh.2023.1140353. PMID: 37113165; PMCID: PMC10126380.\n",
        "\n",
        "Tiwari, S., Kumar, S., & Guleria, K. (2020). A mathematical modelling approach in the spread of the novel 2019 coronavirus SARS-CoV-2 (COVID-19) pandemic. Electronic Journal of General Medicine, 17(4), em205.\n",
        "\n",
        "Vaswani, A., Shazeer, N., Parmar, N., Uszkoreit, J., Jones, L., Gomez, A. N., Kaiser, Ł., & Polosukhin, I. (2017). Attention is all you need. Advances in Neural Information Processing Systems, 30. Retrieved from https://papers.nips.cc/paper_files/paper/2017/file/3f5ee243547dee91fbd053c1c4a845aa-Paper.pdf\n",
        "\n",
        "Wu, C., Xiao, L., Chen, B., & others. (2020). COVID-BERT: A pre-trained language model for COVID-19. arXiv preprint arXiv:2004.03188. Retrieved from https://arxiv.org/abs/2004.03188\n",
        "\n",
        "Yang, Z., Zeng, Z., Wang, K., Wong, S. S., Liang, W., Zanin, M., ... & He, J. (2020). Global prediction system for COVID-19 pandemic. Science Bulletin, 65(22), 1884-1887.\n",
        "\n",
        "Yang, Z., Zeng, Z., Wang, K., Wong, S. S., Liang, W., Zanin, M., ... & He, J. (2020). Modified SEIR and AI prediction of the epidemics trend of COVID-19 in China under public health interventions. Journal of Thoracic Disease, 12(3), 165.\n",
        "\n",
        "Zhou, J., Cui, G., Zhang, Z., Yang, C., Liu, Z., Wang, L., ... & Sun, M. (2020). Graph neural networks: A review of methods and applications. arXiv preprint arXiv:1812.08434. Retrieved from https://arxiv.org/abs/1812.08434"
      ],
      "metadata": {
        "id": "5hYMKmhvXmrP"
      }
    },
    {
      "cell_type": "code",
      "source": [],
      "metadata": {
        "id": "FVaiP4LKX0ec"
      },
      "execution_count": 57,
      "outputs": []
    }
  ],
  "metadata": {
    "colab": {
      "provenance": []
    },
    "kernelspec": {
      "display_name": "Python 3",
      "name": "python3"
    },
    "language_info": {
      "name": "python"
    }
  },
  "nbformat": 4,
  "nbformat_minor": 0
}